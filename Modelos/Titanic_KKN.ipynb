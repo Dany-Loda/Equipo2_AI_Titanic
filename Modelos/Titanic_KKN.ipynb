{
  "nbformat": 4,
  "nbformat_minor": 0,
  "metadata": {
    "colab": {
      "provenance": []
    },
    "kernelspec": {
      "name": "python3",
      "display_name": "Python 3"
    },
    "language_info": {
      "name": "python"
    }
  },
  "cells": [
    {
      "cell_type": "markdown",
      "source": [
        " # Etapa 1: Limpieza de Datos\n",
        " Equipo 2\n",
        "\n",
        "---\n",
        "\n",
        "\n",
        "\n"
      ],
      "metadata": {
        "id": "vcyEkwtOtbJp"
      }
    },
    {
      "cell_type": "markdown",
      "source": [
        "## Importación de Librerías"
      ],
      "metadata": {
        "id": "SBiwO3hThVQt"
      }
    },
    {
      "cell_type": "code",
      "execution_count": 1,
      "metadata": {
        "id": "Ix0nxzBPc-0r"
      },
      "outputs": [],
      "source": [
        "import pandas as pd\n",
        "import numpy as np\n",
        "import matplotlib.pyplot as plt\n",
        "import seaborn as sns\n",
        "import scipy.stats as stats\n",
        "from statsmodels.imputation import mice\n",
        "from sklearn.ensemble import RandomForestRegressor\n",
        "from sklearn.decomposition import PCA\n",
        "from sklearn.preprocessing import LabelEncoder"
      ]
    },
    {
      "cell_type": "markdown",
      "source": [
        "## Montaje de Datos en Google Drive\n",
        "Se monta la unidad en Google Drive y se cargan los datos directamente de esta fuente."
      ],
      "metadata": {
        "id": "iEfg4icCgOTw"
      }
    },
    {
      "cell_type": "code",
      "source": [
        "# Montamos unidad en Google Drive y Cargamos los datos\n",
        "# from google.colab import drive\n",
        "# drive.mount('/content/gdrive')\n",
        "\n",
        "# Carga de datos desde Drive\n",
        "# train = pd.read_csv(\"/content/gdrive/MyDrive/EquipoIA/Reto/train.csv\")\n",
        "# test = pd.read_csv(\"/content/gdrive/MyDrive/EquipoIA/Reto/test.csv\")"
      ],
      "metadata": {
        "id": "ZRg9MOTLt5p6"
      },
      "execution_count": 2,
      "outputs": []
    },
    {
      "cell_type": "markdown",
      "source": [
        "## Carga de Datos Local\n",
        "En caso que sea necesario, se cargan los datos localmente desde su archivos CSV"
      ],
      "metadata": {
        "id": "R1mpbkpMgRnt"
      }
    },
    {
      "cell_type": "code",
      "source": [
        "# Carga de archivos\n",
        "train = pd.read_csv(\"train.csv\")\n",
        "test = pd.read_csv(\"test.csv\")"
      ],
      "metadata": {
        "id": "FIpI3Lg7gRLu"
      },
      "execution_count": 3,
      "outputs": []
    },
    {
      "cell_type": "markdown",
      "source": [
        "## Exploración de Datos\n"
      ],
      "metadata": {
        "id": "ss57TA1Ev2U6"
      }
    },
    {
      "cell_type": "markdown",
      "source": [
        "Determinamos la extensión y las columnas que contiene el dataframe de entrenamiento que buscamos limpiar."
      ],
      "metadata": {
        "id": "K-rh884cwCQK"
      }
    },
    {
      "cell_type": "code",
      "source": [
        "# Mostramos los primeros 5 registros de la tabla, además observamos todas las columnas que contiene\n",
        "train.head(5)"
      ],
      "metadata": {
        "id": "vDLitDFf7bpI",
        "colab": {
          "base_uri": "https://localhost:8080/",
          "height": 241
        },
        "outputId": "8bdba71c-f823-471e-8e32-f25b2dbed7bd"
      },
      "execution_count": 4,
      "outputs": [
        {
          "output_type": "execute_result",
          "data": {
            "text/plain": [
              "   PassengerId  Survived  Pclass  \\\n",
              "0            1         0       3   \n",
              "1            2         1       1   \n",
              "2            3         1       3   \n",
              "3            4         1       1   \n",
              "4            5         0       3   \n",
              "\n",
              "                                                Name     Sex   Age  SibSp  \\\n",
              "0                            Braund, Mr. Owen Harris    male  22.0      1   \n",
              "1  Cumings, Mrs. John Bradley (Florence Briggs Th...  female  38.0      1   \n",
              "2                             Heikkinen, Miss. Laina  female  26.0      0   \n",
              "3       Futrelle, Mrs. Jacques Heath (Lily May Peel)  female  35.0      1   \n",
              "4                           Allen, Mr. William Henry    male  35.0      0   \n",
              "\n",
              "   Parch            Ticket     Fare Cabin Embarked  \n",
              "0      0         A/5 21171   7.2500   NaN        S  \n",
              "1      0          PC 17599  71.2833   C85        C  \n",
              "2      0  STON/O2. 3101282   7.9250   NaN        S  \n",
              "3      0            113803  53.1000  C123        S  \n",
              "4      0            373450   8.0500   NaN        S  "
            ],
            "text/html": [
              "\n",
              "  <div id=\"df-eb656b17-a91b-42db-9e1e-43a648ae8b31\" class=\"colab-df-container\">\n",
              "    <div>\n",
              "<style scoped>\n",
              "    .dataframe tbody tr th:only-of-type {\n",
              "        vertical-align: middle;\n",
              "    }\n",
              "\n",
              "    .dataframe tbody tr th {\n",
              "        vertical-align: top;\n",
              "    }\n",
              "\n",
              "    .dataframe thead th {\n",
              "        text-align: right;\n",
              "    }\n",
              "</style>\n",
              "<table border=\"1\" class=\"dataframe\">\n",
              "  <thead>\n",
              "    <tr style=\"text-align: right;\">\n",
              "      <th></th>\n",
              "      <th>PassengerId</th>\n",
              "      <th>Survived</th>\n",
              "      <th>Pclass</th>\n",
              "      <th>Name</th>\n",
              "      <th>Sex</th>\n",
              "      <th>Age</th>\n",
              "      <th>SibSp</th>\n",
              "      <th>Parch</th>\n",
              "      <th>Ticket</th>\n",
              "      <th>Fare</th>\n",
              "      <th>Cabin</th>\n",
              "      <th>Embarked</th>\n",
              "    </tr>\n",
              "  </thead>\n",
              "  <tbody>\n",
              "    <tr>\n",
              "      <th>0</th>\n",
              "      <td>1</td>\n",
              "      <td>0</td>\n",
              "      <td>3</td>\n",
              "      <td>Braund, Mr. Owen Harris</td>\n",
              "      <td>male</td>\n",
              "      <td>22.0</td>\n",
              "      <td>1</td>\n",
              "      <td>0</td>\n",
              "      <td>A/5 21171</td>\n",
              "      <td>7.2500</td>\n",
              "      <td>NaN</td>\n",
              "      <td>S</td>\n",
              "    </tr>\n",
              "    <tr>\n",
              "      <th>1</th>\n",
              "      <td>2</td>\n",
              "      <td>1</td>\n",
              "      <td>1</td>\n",
              "      <td>Cumings, Mrs. John Bradley (Florence Briggs Th...</td>\n",
              "      <td>female</td>\n",
              "      <td>38.0</td>\n",
              "      <td>1</td>\n",
              "      <td>0</td>\n",
              "      <td>PC 17599</td>\n",
              "      <td>71.2833</td>\n",
              "      <td>C85</td>\n",
              "      <td>C</td>\n",
              "    </tr>\n",
              "    <tr>\n",
              "      <th>2</th>\n",
              "      <td>3</td>\n",
              "      <td>1</td>\n",
              "      <td>3</td>\n",
              "      <td>Heikkinen, Miss. Laina</td>\n",
              "      <td>female</td>\n",
              "      <td>26.0</td>\n",
              "      <td>0</td>\n",
              "      <td>0</td>\n",
              "      <td>STON/O2. 3101282</td>\n",
              "      <td>7.9250</td>\n",
              "      <td>NaN</td>\n",
              "      <td>S</td>\n",
              "    </tr>\n",
              "    <tr>\n",
              "      <th>3</th>\n",
              "      <td>4</td>\n",
              "      <td>1</td>\n",
              "      <td>1</td>\n",
              "      <td>Futrelle, Mrs. Jacques Heath (Lily May Peel)</td>\n",
              "      <td>female</td>\n",
              "      <td>35.0</td>\n",
              "      <td>1</td>\n",
              "      <td>0</td>\n",
              "      <td>113803</td>\n",
              "      <td>53.1000</td>\n",
              "      <td>C123</td>\n",
              "      <td>S</td>\n",
              "    </tr>\n",
              "    <tr>\n",
              "      <th>4</th>\n",
              "      <td>5</td>\n",
              "      <td>0</td>\n",
              "      <td>3</td>\n",
              "      <td>Allen, Mr. William Henry</td>\n",
              "      <td>male</td>\n",
              "      <td>35.0</td>\n",
              "      <td>0</td>\n",
              "      <td>0</td>\n",
              "      <td>373450</td>\n",
              "      <td>8.0500</td>\n",
              "      <td>NaN</td>\n",
              "      <td>S</td>\n",
              "    </tr>\n",
              "  </tbody>\n",
              "</table>\n",
              "</div>\n",
              "    <div class=\"colab-df-buttons\">\n",
              "\n",
              "  <div class=\"colab-df-container\">\n",
              "    <button class=\"colab-df-convert\" onclick=\"convertToInteractive('df-eb656b17-a91b-42db-9e1e-43a648ae8b31')\"\n",
              "            title=\"Convert this dataframe to an interactive table.\"\n",
              "            style=\"display:none;\">\n",
              "\n",
              "  <svg xmlns=\"http://www.w3.org/2000/svg\" height=\"24px\" viewBox=\"0 -960 960 960\">\n",
              "    <path d=\"M120-120v-720h720v720H120Zm60-500h600v-160H180v160Zm220 220h160v-160H400v160Zm0 220h160v-160H400v160ZM180-400h160v-160H180v160Zm440 0h160v-160H620v160ZM180-180h160v-160H180v160Zm440 0h160v-160H620v160Z\"/>\n",
              "  </svg>\n",
              "    </button>\n",
              "\n",
              "  <style>\n",
              "    .colab-df-container {\n",
              "      display:flex;\n",
              "      gap: 12px;\n",
              "    }\n",
              "\n",
              "    .colab-df-convert {\n",
              "      background-color: #E8F0FE;\n",
              "      border: none;\n",
              "      border-radius: 50%;\n",
              "      cursor: pointer;\n",
              "      display: none;\n",
              "      fill: #1967D2;\n",
              "      height: 32px;\n",
              "      padding: 0 0 0 0;\n",
              "      width: 32px;\n",
              "    }\n",
              "\n",
              "    .colab-df-convert:hover {\n",
              "      background-color: #E2EBFA;\n",
              "      box-shadow: 0px 1px 2px rgba(60, 64, 67, 0.3), 0px 1px 3px 1px rgba(60, 64, 67, 0.15);\n",
              "      fill: #174EA6;\n",
              "    }\n",
              "\n",
              "    .colab-df-buttons div {\n",
              "      margin-bottom: 4px;\n",
              "    }\n",
              "\n",
              "    [theme=dark] .colab-df-convert {\n",
              "      background-color: #3B4455;\n",
              "      fill: #D2E3FC;\n",
              "    }\n",
              "\n",
              "    [theme=dark] .colab-df-convert:hover {\n",
              "      background-color: #434B5C;\n",
              "      box-shadow: 0px 1px 3px 1px rgba(0, 0, 0, 0.15);\n",
              "      filter: drop-shadow(0px 1px 2px rgba(0, 0, 0, 0.3));\n",
              "      fill: #FFFFFF;\n",
              "    }\n",
              "  </style>\n",
              "\n",
              "    <script>\n",
              "      const buttonEl =\n",
              "        document.querySelector('#df-eb656b17-a91b-42db-9e1e-43a648ae8b31 button.colab-df-convert');\n",
              "      buttonEl.style.display =\n",
              "        google.colab.kernel.accessAllowed ? 'block' : 'none';\n",
              "\n",
              "      async function convertToInteractive(key) {\n",
              "        const element = document.querySelector('#df-eb656b17-a91b-42db-9e1e-43a648ae8b31');\n",
              "        const dataTable =\n",
              "          await google.colab.kernel.invokeFunction('convertToInteractive',\n",
              "                                                    [key], {});\n",
              "        if (!dataTable) return;\n",
              "\n",
              "        const docLinkHtml = 'Like what you see? Visit the ' +\n",
              "          '<a target=\"_blank\" href=https://colab.research.google.com/notebooks/data_table.ipynb>data table notebook</a>'\n",
              "          + ' to learn more about interactive tables.';\n",
              "        element.innerHTML = '';\n",
              "        dataTable['output_type'] = 'display_data';\n",
              "        await google.colab.output.renderOutput(dataTable, element);\n",
              "        const docLink = document.createElement('div');\n",
              "        docLink.innerHTML = docLinkHtml;\n",
              "        element.appendChild(docLink);\n",
              "      }\n",
              "    </script>\n",
              "  </div>\n",
              "\n",
              "\n",
              "<div id=\"df-a0170580-522d-4f37-a8a9-51c53f2d8f59\">\n",
              "  <button class=\"colab-df-quickchart\" onclick=\"quickchart('df-a0170580-522d-4f37-a8a9-51c53f2d8f59')\"\n",
              "            title=\"Suggest charts.\"\n",
              "            style=\"display:none;\">\n",
              "\n",
              "<svg xmlns=\"http://www.w3.org/2000/svg\" height=\"24px\"viewBox=\"0 0 24 24\"\n",
              "     width=\"24px\">\n",
              "    <g>\n",
              "        <path d=\"M19 3H5c-1.1 0-2 .9-2 2v14c0 1.1.9 2 2 2h14c1.1 0 2-.9 2-2V5c0-1.1-.9-2-2-2zM9 17H7v-7h2v7zm4 0h-2V7h2v10zm4 0h-2v-4h2v4z\"/>\n",
              "    </g>\n",
              "</svg>\n",
              "  </button>\n",
              "\n",
              "<style>\n",
              "  .colab-df-quickchart {\n",
              "      --bg-color: #E8F0FE;\n",
              "      --fill-color: #1967D2;\n",
              "      --hover-bg-color: #E2EBFA;\n",
              "      --hover-fill-color: #174EA6;\n",
              "      --disabled-fill-color: #AAA;\n",
              "      --disabled-bg-color: #DDD;\n",
              "  }\n",
              "\n",
              "  [theme=dark] .colab-df-quickchart {\n",
              "      --bg-color: #3B4455;\n",
              "      --fill-color: #D2E3FC;\n",
              "      --hover-bg-color: #434B5C;\n",
              "      --hover-fill-color: #FFFFFF;\n",
              "      --disabled-bg-color: #3B4455;\n",
              "      --disabled-fill-color: #666;\n",
              "  }\n",
              "\n",
              "  .colab-df-quickchart {\n",
              "    background-color: var(--bg-color);\n",
              "    border: none;\n",
              "    border-radius: 50%;\n",
              "    cursor: pointer;\n",
              "    display: none;\n",
              "    fill: var(--fill-color);\n",
              "    height: 32px;\n",
              "    padding: 0;\n",
              "    width: 32px;\n",
              "  }\n",
              "\n",
              "  .colab-df-quickchart:hover {\n",
              "    background-color: var(--hover-bg-color);\n",
              "    box-shadow: 0 1px 2px rgba(60, 64, 67, 0.3), 0 1px 3px 1px rgba(60, 64, 67, 0.15);\n",
              "    fill: var(--button-hover-fill-color);\n",
              "  }\n",
              "\n",
              "  .colab-df-quickchart-complete:disabled,\n",
              "  .colab-df-quickchart-complete:disabled:hover {\n",
              "    background-color: var(--disabled-bg-color);\n",
              "    fill: var(--disabled-fill-color);\n",
              "    box-shadow: none;\n",
              "  }\n",
              "\n",
              "  .colab-df-spinner {\n",
              "    border: 2px solid var(--fill-color);\n",
              "    border-color: transparent;\n",
              "    border-bottom-color: var(--fill-color);\n",
              "    animation:\n",
              "      spin 1s steps(1) infinite;\n",
              "  }\n",
              "\n",
              "  @keyframes spin {\n",
              "    0% {\n",
              "      border-color: transparent;\n",
              "      border-bottom-color: var(--fill-color);\n",
              "      border-left-color: var(--fill-color);\n",
              "    }\n",
              "    20% {\n",
              "      border-color: transparent;\n",
              "      border-left-color: var(--fill-color);\n",
              "      border-top-color: var(--fill-color);\n",
              "    }\n",
              "    30% {\n",
              "      border-color: transparent;\n",
              "      border-left-color: var(--fill-color);\n",
              "      border-top-color: var(--fill-color);\n",
              "      border-right-color: var(--fill-color);\n",
              "    }\n",
              "    40% {\n",
              "      border-color: transparent;\n",
              "      border-right-color: var(--fill-color);\n",
              "      border-top-color: var(--fill-color);\n",
              "    }\n",
              "    60% {\n",
              "      border-color: transparent;\n",
              "      border-right-color: var(--fill-color);\n",
              "    }\n",
              "    80% {\n",
              "      border-color: transparent;\n",
              "      border-right-color: var(--fill-color);\n",
              "      border-bottom-color: var(--fill-color);\n",
              "    }\n",
              "    90% {\n",
              "      border-color: transparent;\n",
              "      border-bottom-color: var(--fill-color);\n",
              "    }\n",
              "  }\n",
              "</style>\n",
              "\n",
              "  <script>\n",
              "    async function quickchart(key) {\n",
              "      const quickchartButtonEl =\n",
              "        document.querySelector('#' + key + ' button');\n",
              "      quickchartButtonEl.disabled = true;  // To prevent multiple clicks.\n",
              "      quickchartButtonEl.classList.add('colab-df-spinner');\n",
              "      try {\n",
              "        const charts = await google.colab.kernel.invokeFunction(\n",
              "            'suggestCharts', [key], {});\n",
              "      } catch (error) {\n",
              "        console.error('Error during call to suggestCharts:', error);\n",
              "      }\n",
              "      quickchartButtonEl.classList.remove('colab-df-spinner');\n",
              "      quickchartButtonEl.classList.add('colab-df-quickchart-complete');\n",
              "    }\n",
              "    (() => {\n",
              "      let quickchartButtonEl =\n",
              "        document.querySelector('#df-a0170580-522d-4f37-a8a9-51c53f2d8f59 button');\n",
              "      quickchartButtonEl.style.display =\n",
              "        google.colab.kernel.accessAllowed ? 'block' : 'none';\n",
              "    })();\n",
              "  </script>\n",
              "</div>\n",
              "    </div>\n",
              "  </div>\n"
            ]
          },
          "metadata": {},
          "execution_count": 4
        }
      ]
    },
    {
      "cell_type": "markdown",
      "source": [
        "Comparamos las dimensiones de los conjuntos de datos de entrenamiento y prueba. Esto nos permite asegurar que contamos con una proporción adecuada de datos para entrenar el modelo de manera efectiva."
      ],
      "metadata": {
        "id": "MNFdknKqway3"
      }
    },
    {
      "cell_type": "code",
      "source": [
        "size_test = test.shape[0]\n",
        "size_train = train.shape[0]\n",
        "print(\"Cantidad de registros en test:\", size_test, \"\\nCantidad de registros en train:\", size_train)"
      ],
      "metadata": {
        "id": "jZM3I7QtovHq",
        "colab": {
          "base_uri": "https://localhost:8080/"
        },
        "outputId": "9e3032cf-2efd-4eb0-c6b8-4251c8d7154f"
      },
      "execution_count": 5,
      "outputs": [
        {
          "output_type": "stream",
          "name": "stdout",
          "text": [
            "Cantidad de registros en test: 418 \n",
            "Cantidad de registros en train: 891\n"
          ]
        }
      ]
    },
    {
      "cell_type": "markdown",
      "source": [
        "Revisamos el tipo de datos de cada una de las 12 columnas del dataframe de entrenamiento para tomar decisiones sobre la posible limpieza de datos"
      ],
      "metadata": {
        "id": "luLKBAk3yBUb"
      }
    },
    {
      "cell_type": "code",
      "source": [
        "print(train.dtypes)"
      ],
      "metadata": {
        "id": "QmX4Ox73thp1",
        "colab": {
          "base_uri": "https://localhost:8080/"
        },
        "outputId": "48f23727-098c-4a5f-8ad0-4ed2d2c6bd9f"
      },
      "execution_count": 6,
      "outputs": [
        {
          "output_type": "stream",
          "name": "stdout",
          "text": [
            "PassengerId      int64\n",
            "Survived         int64\n",
            "Pclass           int64\n",
            "Name            object\n",
            "Sex             object\n",
            "Age            float64\n",
            "SibSp            int64\n",
            "Parch            int64\n",
            "Ticket          object\n",
            "Fare           float64\n",
            "Cabin           object\n",
            "Embarked        object\n",
            "dtype: object\n"
          ]
        }
      ]
    },
    {
      "cell_type": "markdown",
      "source": [
        "Observamos que contamos con algunas variables no numéricas como Name, Sex, Ticket, Cabin y Embarked. Las cuales tendremos que tratar de otra manera en caso de buscar sustituirlas."
      ],
      "metadata": {
        "id": "57Htrv99yfkd"
      }
    },
    {
      "cell_type": "code",
      "source": [
        "# Revisamos cantidad de datos nulos con el fin de orientar neustra limpieza a aquellas variables que lo ameriten\n",
        "test.isnull().sum()"
      ],
      "metadata": {
        "colab": {
          "base_uri": "https://localhost:8080/"
        },
        "id": "9jCHSqoCzPot",
        "outputId": "161d5df8-3335-4c8d-dd7d-1b120bfcb47f"
      },
      "execution_count": 7,
      "outputs": [
        {
          "output_type": "execute_result",
          "data": {
            "text/plain": [
              "PassengerId      0\n",
              "Pclass           0\n",
              "Name             0\n",
              "Sex              0\n",
              "Age             86\n",
              "SibSp            0\n",
              "Parch            0\n",
              "Ticket           0\n",
              "Fare             1\n",
              "Cabin          327\n",
              "Embarked         0\n",
              "dtype: int64"
            ]
          },
          "metadata": {},
          "execution_count": 7
        }
      ]
    },
    {
      "cell_type": "markdown",
      "source": [
        "Observamos que contamos con valores nulos en 3 variables: Age, Cabin y Embarked. La primera siendo numérica y las otras dos textos, por lo que el tratamiento que se les dará a cada una será diferente."
      ],
      "metadata": {
        "id": "XAJ8JDmTzflx"
      }
    },
    {
      "cell_type": "markdown",
      "source": [
        "## Visualización de Datos"
      ],
      "metadata": {
        "id": "0x4PSZlyy1JY"
      }
    },
    {
      "cell_type": "markdown",
      "source": [
        "#### Boxplot de Edad de Pasajeros\n",
        "\n"
      ],
      "metadata": {
        "id": "ZjMPviAvy6Da"
      }
    },
    {
      "cell_type": "code",
      "source": [
        "df = sns.load_dataset(\"titanic\")\n",
        "sns.boxplot(x=df[\"age\"])"
      ],
      "metadata": {
        "colab": {
          "base_uri": "https://localhost:8080/",
          "height": 0
        },
        "id": "WAVPJchQgyAc",
        "outputId": "77e9cb66-a344-4a22-e12f-7150d0af3ae8"
      },
      "execution_count": 8,
      "outputs": [
        {
          "output_type": "execute_result",
          "data": {
            "text/plain": [
              "<Axes: xlabel='age'>"
            ]
          },
          "metadata": {},
          "execution_count": 8
        },
        {
          "output_type": "display_data",
          "data": {
            "text/plain": [
              "<Figure size 640x480 with 1 Axes>"
            ],
            "image/png": "[encoded data removed]"
          },
          "metadata": {}
        }
      ]
    },
    {
      "cell_type": "markdown",
      "source": [
        "#### Boxplot de Edad de Pasajeros por Clase"
      ],
      "metadata": {
        "id": "FjZyMDyTzEDM"
      }
    },
    {
      "cell_type": "code",
      "source": [
        "sns.boxplot(data=df, x=\"age\", y=\"class\")"
      ],
      "metadata": {
        "colab": {
          "base_uri": "https://localhost:8080/",
          "height": 0
        },
        "id": "QheFFG7Xg3bJ",
        "outputId": "2724c9fe-0f8e-4476-9c86-b38033a75b1e"
      },
      "execution_count": 9,
      "outputs": [
        {
          "output_type": "execute_result",
          "data": {
            "text/plain": [
              "<Axes: xlabel='age', ylabel='class'>"
            ]
          },
          "metadata": {},
          "execution_count": 9
        },
        {
          "output_type": "display_data",
          "data": {
            "text/plain": [
              "<Figure size 640x480 with 1 Axes>"
            ],
            "image/png": "[encoded data removed]"
          },
          "metadata": {}
        }
      ]
    },
    {
      "cell_type": "markdown",
      "source": [
        "#### Boxplot de Edad de Pasajeros por Sobrevivencia\n",
        "\n"
      ],
      "metadata": {
        "id": "d41W14TjzIgt"
      }
    },
    {
      "cell_type": "code",
      "source": [
        "sns.boxplot(data=df, x=\"age\", y=\"class\", hue=\"alive\")"
      ],
      "metadata": {
        "colab": {
          "base_uri": "https://localhost:8080/",
          "height": 0
        },
        "id": "cnA9bS8sg51j",
        "outputId": "6eec6dd0-e855-48f3-f6b6-27bd07330bcd"
      },
      "execution_count": 10,
      "outputs": [
        {
          "output_type": "execute_result",
          "data": {
            "text/plain": [
              "<Axes: xlabel='age', ylabel='class'>"
            ]
          },
          "metadata": {},
          "execution_count": 10
        },
        {
          "output_type": "display_data",
          "data": {
            "text/plain": [
              "<Figure size 640x480 with 1 Axes>"
            ],
            "image/png": "[encoded data removed]"
          },
          "metadata": {}
        }
      ]
    },
    {
      "cell_type": "markdown",
      "source": [
        "## Limpieza de Datos"
      ],
      "metadata": {
        "id": "Ry0PDFJSgjKk"
      }
    },
    {
      "cell_type": "markdown",
      "source": [
        "### Paso 1 : Limpieza de Columna \"Age\" y Feature Engineering con Titulo\n"
      ],
      "metadata": {
        "id": "w8tagVRq2ScR"
      }
    },
    {
      "cell_type": "markdown",
      "source": [
        " La columna 'Age' (Edad) es una característica importante para predecir la supervivencia en el Titanic. Las edades pueden influir en la probabilidad de supervivencia, ya que es posible que se haya dado prioridad a niños y ancianos durante el rescate. Además, la edad puede estar relacionada con otras características, como la clase del pasajero, que también pueden influir en la supervivencia.\n"
      ],
      "metadata": {
        "id": "L44ZsVZQ3jwr"
      }
    },
    {
      "cell_type": "code",
      "source": [
        "# Contando los valores nulos en la columna 'Age' para ambos conjuntos\n",
        "\n",
        "# Para el conjunto de entrenamiento (train)\n",
        "null_values_train = train['Age'].isnull().sum()\n",
        "print(f\"Valores nulos en la columna 'Age' del conjunto de entrenamiento: {null_values_train}\")\n",
        "\n",
        "# Para el conjunto de prueba (test)\n",
        "null_values_test = test['Age'].isnull().sum()\n",
        "print(f\"Valores nulos en la columna 'Age' del conjunto de prueba: {null_values_test}\")"
      ],
      "metadata": {
        "colab": {
          "base_uri": "https://localhost:8080/"
        },
        "id": "5dlMdqp43lE_",
        "outputId": "6420ff7d-3654-4fb2-becf-143599a215e9"
      },
      "execution_count": 11,
      "outputs": [
        {
          "output_type": "stream",
          "name": "stdout",
          "text": [
            "Valores nulos en la columna 'Age' del conjunto de entrenamiento: 177\n",
            "Valores nulos en la columna 'Age' del conjunto de prueba: 86\n"
          ]
        }
      ]
    },
    {
      "cell_type": "markdown",
      "source": [
        "Para tener una mejor idea de cómo manejar estos datos, vamos a visualizar la distribución de la variable."
      ],
      "metadata": {
        "id": "O8zCWwiR4AT-"
      }
    },
    {
      "cell_type": "code",
      "source": [
        "# Distribución de Edad en ambos conjuntos\n",
        "sns.histplot(data=train, x='Age', kde=True, bins=20, color='blue', label='Entrenamiento')\n",
        "sns.histplot(data=test, x='Age', kde=True, bins=20, color='red', label='Prueba')\n",
        "\n",
        "plt.title('Distribución de Edad en Datos de Entrenamiento y Prueba')\n",
        "plt.legend()\n",
        "plt.show()"
      ],
      "metadata": {
        "colab": {
          "base_uri": "https://localhost:8080/",
          "height": 0
        },
        "id": "oLAkJ6M74How",
        "outputId": "4000704d-50cf-4416-d734-293dc4fa3c43"
      },
      "execution_count": 12,
      "outputs": [
        {
          "output_type": "display_data",
          "data": {
            "text/plain": [
              "<Figure size 640x480 with 1 Axes>"
            ],
            "image/png": "[encoded data removed]"
          },
          "metadata": {}
        }
      ]
    },
    {
      "cell_type": "markdown",
      "source": [
        " Una observación interesante es que en la columna 'Name', cada nombre tiene un título asociado (como Mr., Mrs., Master., Miss., Bissette y Bishop). Estos títulos pueden proporcionarnos pistas sobre la edad de la persona. Por ejemplo:\n",
        "- 'Master.' generalmente indica niños varones entre 0 a 12 años.\n",
        "- 'Mrs.' se refiere a una mujer casada, lo que sugiere que es poco probable que tenga menos de 16 años (edad de consentimiento).\n"
      ],
      "metadata": {
        "id": "6KIQw5zU65fc"
      }
    },
    {
      "cell_type": "code",
      "source": [
        "# Por ello extraemos el título de la columna 'Name'\n",
        "train['Title'] = train['Name'].str.extract(' ([A-Za-z]+)\\.', expand=False)\n",
        "test['Title'] = test['Name'].str.extract(' ([A-Za-z]+)\\.', expand=False)"
      ],
      "metadata": {
        "id": "fJUW_fAz6szH"
      },
      "execution_count": 13,
      "outputs": []
    },
    {
      "cell_type": "code",
      "source": [
        "# Verificamos resultados\n",
        "train[\"Title\"].head(4)"
      ],
      "metadata": {
        "colab": {
          "base_uri": "https://localhost:8080/"
        },
        "id": "IuvceSn8_SeN",
        "outputId": "73e025d9-59fb-47f2-d310-1511449ff01a"
      },
      "execution_count": 14,
      "outputs": [
        {
          "output_type": "execute_result",
          "data": {
            "text/plain": [
              "0      Mr\n",
              "1     Mrs\n",
              "2    Miss\n",
              "3     Mrs\n",
              "Name: Title, dtype: object"
            ]
          },
          "metadata": {},
          "execution_count": 14
        }
      ]
    },
    {
      "cell_type": "markdown",
      "source": [
        "#### Random Forest: Método de Imputación de Edad"
      ],
      "metadata": {
        "id": "Pk5DESm27jTp"
      }
    },
    {
      "cell_type": "markdown",
      "source": [
        "La elección de utilizar Random Forest para la imputación de datos se basa en:\n",
        "\n",
        "1. **Capacidad de Manejar Datos No Lineales**: Random Forest, al ser un ensamble de árboles de decisión, puede capturar relaciones no lineales y complejas entre las características. Esto lo hace adecuado para imputar valores basándose en múltiples características de entrada.\n",
        "\n",
        "2. **Menor Riesgo de Sobreajuste**: Aunque los árboles de decisión individuales pueden ser propensos al sobreajuste, el ensamblado en Random Forest ayuda a promediar las predicciones de múltiples árboles, lo que reduce la varianza y el riesgo de sobreajuste.\n",
        "\n",
        "3. **Imputación Basada en Múltiples Características**: A diferencia de las técnicas de imputación univariante, que rellenan valores faltantes basándose en una sola característica, Random Forest utiliza múltiples características para hacer una predicción, lo que puede resultar en imputaciones más precisas.\n"
      ],
      "metadata": {
        "id": "sfEgjGrL8UHK"
      }
    },
    {
      "cell_type": "markdown",
      "source": [
        "#### Imputación de Train con RF"
      ],
      "metadata": {
        "id": "Mj2x7Hi5-v4E"
      }
    },
    {
      "cell_type": "code",
      "source": [
        "import pandas as pd\n",
        "from sklearn.ensemble import RandomForestRegressor\n",
        "\n",
        "# Suponiendo que ya has cargado tus datos en las variables 'train' y 'test'\n",
        "# y que ya has extraído la columna 'Title' de 'Name'\n",
        "\n",
        "# Convertir las variables categóricas en dummies\n",
        "train_dummies = pd.get_dummies(train, columns=['Title', 'Sex', 'Pclass', 'Embarked'], drop_first=True)\n",
        "test_dummies = pd.get_dummies(test, columns=['Title', 'Sex', 'Pclass', 'Embarked'], drop_first=True)\n",
        "\n",
        "# Eliminar columnas que no se utilizarán para el entrenamiento\n",
        "train_dummies = train_dummies.drop(['Name', 'Ticket', 'Cabin'], axis=1)\n",
        "test_dummies = test_dummies.drop(['Name', 'Ticket', 'Cabin'], axis=1)\n",
        "\n",
        "# Alinear los conjuntos 'train_dummies' y 'test_dummies' para asegurarse de que tengan las mismas columnas\n",
        "train_dummies, test_dummies = train_dummies.align(test_dummies, join='outer', axis=1, fill_value=0)\n",
        "\n",
        "# Dividir el conjunto 'train' en registros con 'Age' y registros sin 'Age'\n",
        "train_with_age = train_dummies.dropna(subset=['Age'])\n",
        "train_without_age = train_dummies[train_dummies['Age'].isnull()].copy()\n",
        "\n",
        "# Definir características y objetivo para 'train'\n",
        "X_train = train_with_age.drop('Age', axis=1)\n",
        "y_train = train_with_age['Age']\n",
        "\n",
        "# Entrenar el Random Forest\n",
        "rf = RandomForestRegressor(n_estimators=100, random_state=42)\n",
        "rf.fit(X_train, y_train)\n",
        "\n",
        "# Predecir los valores faltantes de 'Age' en 'train'\n",
        "predicted_ages_train = rf.predict(train_without_age.drop('Age', axis=1))\n",
        "train_without_age.loc[:, 'Age'] = predicted_ages_train\n",
        "\n",
        "# Asignar las edades predichas al DataFrame 'train' original\n",
        "train.loc[train['Age'].isnull(), 'Age'] = predicted_ages_train\n",
        "\n",
        "# Dividir el conjunto 'test' en registros con 'Age' y registros sin 'Age'\n",
        "test_with_age = test_dummies.dropna(subset=['Age'])\n",
        "test_without_age = test_dummies[test_dummies['Age'].isnull()].copy()\n",
        "\n",
        "# Predecir los valores faltantes de 'Age' en 'test'\n",
        "predicted_ages_test = rf.predict(test_without_age.drop('Age', axis=1))\n",
        "test_without_age.loc[:, 'Age'] = predicted_ages_test\n",
        "\n",
        "# Asignar las edades predichas al DataFrame 'test' original\n",
        "test.loc[test['Age'].isnull(), 'Age'] = predicted_ages_test"
      ],
      "metadata": {
        "id": "iLx-Wnc980Bs"
      },
      "execution_count": 15,
      "outputs": []
    },
    {
      "cell_type": "code",
      "source": [
        "# Para el conjunto de entrenamiento (train)\n",
        "null_values_train = train['Age'].isnull().sum()\n",
        "print(f\"Valores nulos en la columna 'Age' del conjunto de entrenamiento: {null_values_train}\")\n",
        "\n",
        "# Para el conjunto de prueba (test)\n",
        "null_values_test = test['Age'].isnull().sum()\n",
        "print(f\"Valores nulos en la columna 'Age' del conjunto de prueba: {null_values_test}\")"
      ],
      "metadata": {
        "colab": {
          "base_uri": "https://localhost:8080/"
        },
        "id": "icFSzcUO-2Ui",
        "outputId": "6cb1be3a-2f7d-401b-9426-a5cefed4ba34"
      },
      "execution_count": 16,
      "outputs": [
        {
          "output_type": "stream",
          "name": "stdout",
          "text": [
            "Valores nulos en la columna 'Age' del conjunto de entrenamiento: 0\n",
            "Valores nulos en la columna 'Age' del conjunto de prueba: 0\n"
          ]
        }
      ]
    },
    {
      "cell_type": "code",
      "source": [
        "import matplotlib.pyplot as plt\n",
        "import seaborn as sns\n",
        "\n",
        "# Configuración inicial\n",
        "sns.set_style(\"whitegrid\")\n",
        "\n",
        "# Histograma para el conjunto 'train'\n",
        "plt.figure(figsize=(8, 4))\n",
        "sns.histplot(train['Age'], kde=True, bins=30, label='Después de Imputación', color='blue', alpha=0.5)\n",
        "sns.histplot(train_dummies['Age'], kde=True, bins=30, label='Antes de Imputación', color='red', alpha=0.5)\n",
        "plt.title('Distribución de Edad en Datos de Entrenamiento')\n",
        "plt.xlabel('Edad')\n",
        "plt.ylabel('Frecuencia')\n",
        "plt.legend()\n",
        "plt.show()\n",
        "\n"
      ],
      "metadata": {
        "colab": {
          "base_uri": "https://localhost:8080/",
          "height": 0
        },
        "id": "NPd5pML1eT3b",
        "outputId": "478d8e15-e54a-4145-bd4b-d6027244885d"
      },
      "execution_count": 17,
      "outputs": [
        {
          "output_type": "display_data",
          "data": {
            "text/plain": [
              "<Figure size 800x400 with 1 Axes>"
            ],
            "image/png": "[encoded data removed]"
          },
          "metadata": {}
        }
      ]
    },
    {
      "cell_type": "markdown",
      "source": [
        "### Paso 2 : Limpieza de Columna \"Embarked\"\n"
      ],
      "metadata": {
        "id": "oFm779Vqg62B"
      }
    },
    {
      "cell_type": "markdown",
      "source": [
        "La variable Embarked tiene solo 3 registros faltantes, lo cual simplica el proceso de imputación. Generalmente cuando son pocos datos, lo que suele hacerse es sustituirlo por el valor más frecuente. Sobre todo si consideramos que es un dato cualitativo, es por ello que procederemos de esta manera. Utilizar el valor más común es una técnica estándar de imputación para variables categóricas, ya que introduce un cambio mínimo en la distribución de los datos y es menos probable que introduzca ruido o distorsiones."
      ],
      "metadata": {
        "id": "rWfxsCRAivV-"
      }
    },
    {
      "cell_type": "code",
      "source": [
        "# Primero veamos la frecuencia y categorias de la variable\n",
        "print(train['Embarked'].value_counts())"
      ],
      "metadata": {
        "colab": {
          "base_uri": "https://localhost:8080/"
        },
        "id": "cNKFFrFVhMj9",
        "outputId": "243c7396-0e2d-4544-aedf-7fea8c21c6c4"
      },
      "execution_count": 18,
      "outputs": [
        {
          "output_type": "stream",
          "name": "stdout",
          "text": [
            "S    644\n",
            "C    168\n",
            "Q     77\n",
            "Name: Embarked, dtype: int64\n"
          ]
        }
      ]
    },
    {
      "cell_type": "code",
      "source": [
        "# Vemos que una de ellas domina, por lo que la rellenaremos con ella\n",
        "\n",
        "most_common_embarked = train['Embarked'].mode()[0]\n",
        "\n",
        "train['Embarked'].fillna(most_common_embarked, inplace=True)"
      ],
      "metadata": {
        "id": "tfswNw2OjJbV"
      },
      "execution_count": 19,
      "outputs": []
    },
    {
      "cell_type": "code",
      "source": [
        "test['Fare'].fillna(test['Fare'].median(), inplace=True)"
      ],
      "metadata": {
        "id": "ehDn6r1Ikv6k"
      },
      "execution_count": 20,
      "outputs": []
    },
    {
      "cell_type": "code",
      "source": [
        "# Revisamos cantidad de datos nulos con el fin de orientar neustra limpieza a aquellas variables que lo ameriten\n",
        "train.isnull().sum()"
      ],
      "metadata": {
        "colab": {
          "base_uri": "https://localhost:8080/"
        },
        "id": "te5v-QoGjiyo",
        "outputId": "e17b53b4-59ef-435c-cf11-afe357aa24a0"
      },
      "execution_count": 21,
      "outputs": [
        {
          "output_type": "execute_result",
          "data": {
            "text/plain": [
              "PassengerId      0\n",
              "Survived         0\n",
              "Pclass           0\n",
              "Name             0\n",
              "Sex              0\n",
              "Age              0\n",
              "SibSp            0\n",
              "Parch            0\n",
              "Ticket           0\n",
              "Fare             0\n",
              "Cabin          687\n",
              "Embarked         0\n",
              "Title            0\n",
              "dtype: int64"
            ]
          },
          "metadata": {},
          "execution_count": 21
        }
      ]
    },
    {
      "cell_type": "markdown",
      "source": [
        "### Paso 3: Imputación de Columna \"Cabin\""
      ],
      "metadata": {
        "id": "VrKJPmY1k3De"
      }
    },
    {
      "cell_type": "markdown",
      "source": [
        "La columna Cabin en el conjunto de datos es  desafiante debido a la gran cantidad de valores faltantes. Sin embargo, hay varias estrategias que podemos considerar para abordar este problema."
      ],
      "metadata": {
        "id": "ayXSlhnxrVfz"
      }
    },
    {
      "cell_type": "markdown",
      "source": [
        "Antes de decidir cómo manejar los valores faltantes en la columna Cabin, es esencial entender su importancia en el conjunto de datos. Podemos calcular la correlación entre una versión codificada de Cabin y la variable objetivo Survived. Si hay una correlación significativa, indica que Cabin tiene información relevante."
      ],
      "metadata": {
        "id": "GMeDXwVorssj"
      }
    },
    {
      "cell_type": "code",
      "source": [
        "le = LabelEncoder()\n",
        "# Codificar la columna 'Cabin'\n",
        "train['Cabin_encoded'] = le.fit_transform(train['Cabin'].astype(str))\n",
        "\n",
        "# Calcular la correlación con 'Survived'\n",
        "correlation = train['Survived'].corr(train['Cabin_encoded'])\n",
        "print(f\"Correlación entre 'Survived' y 'Cabin_encoded': {correlation:.2f}\")"
      ],
      "metadata": {
        "colab": {
          "base_uri": "https://localhost:8080/"
        },
        "id": "8Kv-yKqTr3Ei",
        "outputId": "b097499a-94cc-402a-90c5-197fe4baef2b"
      },
      "execution_count": 22,
      "outputs": [
        {
          "output_type": "stream",
          "name": "stdout",
          "text": [
            "Correlación entre 'Survived' y 'Cabin_encoded': -0.25\n"
          ]
        }
      ]
    },
    {
      "cell_type": "markdown",
      "source": [
        "Es una correlación negativa moderada. Es posible que las cabinas ubicadas en ciertas partes del barco fueran menos accesibles a los botes salvavidas o estuvieran más expuestas a peligros durante el hundimiento. Esta correlación proporciona evidencia de que la columna Cabin contiene información relevante para predecir la supervivencia y justifica su retención e imputación en el conjunto de datos."
      ],
      "metadata": {
        "id": "pMhRtMVVtp3J"
      }
    },
    {
      "cell_type": "markdown",
      "source": [
        "#### Extracción de la Cubierta:\n",
        "\n",
        "La idea detrás de esto es que la primera letra de la cabina indica la cubierta en la que se encontraba el pasajero.\n",
        "Por ejemplo, si la cabina es C85, la cubierta es C.\n",
        "Así que, decidí extraer esta letra y guardarla en una nueva columna llamada Deck. Los faltantes serán colocado con Unknown, ya que pueden indicar que pertenecen a una clase determinada."
      ],
      "metadata": {
        "id": "yZl5SE7VuQuk"
      }
    },
    {
      "cell_type": "code",
      "source": [
        "# Extraer la primera letra de la columna 'Cabin' para obtener la cubierta\n",
        "train['Deck'] = train['Cabin'].str[0]\n",
        "test['Deck'] = test['Cabin'].str[0]\n",
        "\n",
        "# Agrupar por número de ticket y llenar las cabinas faltantes con el modo (valor más común) dentro de ese grupo\n",
        "train['Deck'] = train.groupby('Ticket')['Deck'].transform(lambda x: x.fillna(x.mode()[0] if not x.mode().empty else x))\n",
        "test['Deck'] = test.groupby('Ticket')['Deck'].transform(lambda x: x.fillna(x.mode()[0] if not x.mode().empty else x))\n",
        "\n",
        "# Para las cabinas que aún falten, imputarlas con 'Unknown'\n",
        "train['Deck'].fillna('Unknown', inplace=True)\n",
        "test['Deck'].fillna('Unknown', inplace=True)"
      ],
      "metadata": {
        "id": "4HO4OubXtzpw"
      },
      "execution_count": 23,
      "outputs": []
    },
    {
      "cell_type": "code",
      "source": [
        "train.drop('Cabin', axis=1, inplace=True)\n",
        "test.drop('Cabin', axis=1, inplace=True)"
      ],
      "metadata": {
        "id": "fc0E0scRvjkL"
      },
      "execution_count": 24,
      "outputs": []
    },
    {
      "cell_type": "code",
      "source": [
        "# Revisamos cantidad de datos nulos con el fin de verificar que finalizamos nuestra limpieza.\n",
        "train.isnull().sum()"
      ],
      "metadata": {
        "id": "t8hjNZdFuWBx",
        "colab": {
          "base_uri": "https://localhost:8080/"
        },
        "outputId": "60b8ef9c-7b93-43ba-a3bd-ed7df524d51c"
      },
      "execution_count": 25,
      "outputs": [
        {
          "output_type": "execute_result",
          "data": {
            "text/plain": [
              "PassengerId      0\n",
              "Survived         0\n",
              "Pclass           0\n",
              "Name             0\n",
              "Sex              0\n",
              "Age              0\n",
              "SibSp            0\n",
              "Parch            0\n",
              "Ticket           0\n",
              "Fare             0\n",
              "Embarked         0\n",
              "Title            0\n",
              "Cabin_encoded    0\n",
              "Deck             0\n",
              "dtype: int64"
            ]
          },
          "metadata": {},
          "execution_count": 25
        }
      ]
    },
    {
      "cell_type": "markdown",
      "source": [
        "### Paso 4: Undersampling\n",
        "\n",
        "El Undersampling consiste en cortar los datos para balancear la base de entrenamiento y que el modelo conozca de manera equitativa las dos clases (la variables de defunción y sobrevivientes)\n"
      ],
      "metadata": {
        "id": "mCq2TEzQ0Bqh"
      }
    },
    {
      "cell_type": "code",
      "source": [
        "from sklearn.utils import resample"
      ],
      "metadata": {
        "id": "p_b96TFWi-b2"
      },
      "execution_count": 26,
      "outputs": []
    },
    {
      "cell_type": "code",
      "source": [
        "# Separar sobrevivientes de muertos\n",
        "non_survivors = train[train['Survived']==0] # Muertos\n",
        "survivors = train[train['Survived']==1] # Sobrevivientes"
      ],
      "metadata": {
        "id": "69YcrgZYkDNN"
      },
      "execution_count": 27,
      "outputs": []
    },
    {
      "cell_type": "code",
      "source": [
        "# Llamar la función de undersampling\n",
        "under_dead = resample(non_survivors,\n",
        "                      replace = False, #False = Undersample - True = Oversampling\n",
        "                      n_samples = len(survivors), # Buscamos que se equipare con los registros de los sobrevivientes\n",
        "                      random_state = 42) # Una constante para que cada vez que se corra el código se mantenga consistente el nuevo df"
      ],
      "metadata": {
        "id": "mY3ZapKKmU06"
      },
      "execution_count": 28,
      "outputs": []
    },
    {
      "cell_type": "code",
      "source": [
        "undersampled_df = pd.concat([under_dead,survivors]) # Juntar el nuevo df que ya está undersampled, con los existentes registros de sobrevivientes"
      ],
      "metadata": {
        "id": "vgNsM6sjn2iF"
      },
      "execution_count": 29,
      "outputs": []
    },
    {
      "cell_type": "code",
      "source": [
        "undersampled_df = undersampled_df.sample(frac=1,random_state=42) # Mezcla el orden de los registros de los dos df"
      ],
      "metadata": {
        "id": "oPiQ-qyioNv3"
      },
      "execution_count": 30,
      "outputs": []
    },
    {
      "cell_type": "code",
      "source": [
        "undersampled_df.shape # Revisamos el tamaño del nuevo df"
      ],
      "metadata": {
        "id": "X0-8d9rXoWfi",
        "colab": {
          "base_uri": "https://localhost:8080/"
        },
        "outputId": "a349a596-845b-4055-9005-4509278610e0"
      },
      "execution_count": 31,
      "outputs": [
        {
          "output_type": "execute_result",
          "data": {
            "text/plain": [
              "(684, 14)"
            ]
          },
          "metadata": {},
          "execution_count": 31
        }
      ]
    },
    {
      "cell_type": "code",
      "source": [
        "nuevo_df = undersampled_df # Renombramos el df"
      ],
      "metadata": {
        "id": "bspi2t9lq4Y3"
      },
      "execution_count": 32,
      "outputs": []
    },
    {
      "cell_type": "code",
      "source": [
        "nuevo_df.columns"
      ],
      "metadata": {
        "id": "scFOMHQNrFMp",
        "colab": {
          "base_uri": "https://localhost:8080/"
        },
        "outputId": "532d68ba-2685-4174-d6ec-f0ebb2a18a9d"
      },
      "execution_count": 33,
      "outputs": [
        {
          "output_type": "execute_result",
          "data": {
            "text/plain": [
              "Index(['PassengerId', 'Survived', 'Pclass', 'Name', 'Sex', 'Age', 'SibSp',\n",
              "       'Parch', 'Ticket', 'Fare', 'Embarked', 'Title', 'Cabin_encoded',\n",
              "       'Deck'],\n",
              "      dtype='object')"
            ]
          },
          "metadata": {},
          "execution_count": 33
        }
      ]
    },
    {
      "cell_type": "code",
      "source": [
        "print(len(nuevo_df))"
      ],
      "metadata": {
        "colab": {
          "base_uri": "https://localhost:8080/"
        },
        "id": "39GVCiTuwx14",
        "outputId": "275ff2f5-f529-4bdc-bd86-20485e0425ed"
      },
      "execution_count": 34,
      "outputs": [
        {
          "output_type": "stream",
          "name": "stdout",
          "text": [
            "684\n"
          ]
        }
      ]
    },
    {
      "cell_type": "markdown",
      "source": [
        "## Limpia de datos: Visualización\n",
        "Boxplot de edad. Distribución de Tarifa y Edad"
      ],
      "metadata": {
        "id": "zkZb7EummVMJ"
      }
    },
    {
      "cell_type": "code",
      "source": [
        "#Boxplot de edad\n",
        "\n",
        "sns.boxplot(data=nuevo_df.drop(['Survived','PassengerId','Fare','Pclass','SibSp','Parch'], axis=1))\n",
        "\n",
        "# Set plot title and labels\n",
        "plt.title(\"Box Plot\")\n",
        "plt.xlabel(\"X-axis Label\")\n",
        "plt.ylabel(\"Y-axis Label\")\n",
        "plt.xticks(rotation=45)\n",
        "\n",
        "# Show the plot\n",
        "plt.show()"
      ],
      "metadata": {
        "id": "crFdOIiBhaYy",
        "colab": {
          "base_uri": "https://localhost:8080/",
          "height": 543
        },
        "outputId": "31621fe9-a81f-473d-a31c-3e711c909d5e"
      },
      "execution_count": 35,
      "outputs": [
        {
          "output_type": "display_data",
          "data": {
            "text/plain": [
              "<Figure size 640x480 with 1 Axes>"
            ],
            "image/png": "[encoded data removed]"
          },
          "metadata": {}
        }
      ]
    },
    {
      "cell_type": "markdown",
      "source": [
        "## KNN\n",
        "Un KNN (K-Nearest Neighbors) es un algoritmo de aprendizaje automático utilizado para la clasificación y la regresión."
      ],
      "metadata": {
        "id": "uJSo2UDWg8c-"
      }
    },
    {
      "cell_type": "code",
      "source": [
        "# importing libraries\n",
        "from sklearn.model_selection import train_test_split\n",
        "from sklearn.neighbors import NearestNeighbors\n",
        "from sklearn.neighbors import KNeighborsClassifier\n",
        "from sklearn import metrics\n",
        "from sklearn.metrics import accuracy_score\n",
        "from sklearn.metrics import precision_recall_fscore_support\n",
        "from sklearn.model_selection import cross_val_score\n",
        "from sklearn.model_selection import KFold\n",
        "from collections import Counter\n",
        "from sklearn.model_selection import cross_validate"
      ],
      "metadata": {
        "id": "yN0zpXrFhFyN"
      },
      "execution_count": 36,
      "outputs": []
    },
    {
      "cell_type": "code",
      "source": [
        "nuevo_df['Family'] = nuevo_df['SibSp'] + nuevo_df['Parch'] + 1\n",
        "nuevo_df = nuevo_df.drop('SibSp', axis=1,)\n",
        "nuevo_df = nuevo_df.drop('Parch', axis=1,)\n",
        "test['Family'] = test['SibSp'] + test['Parch'] + 1\n",
        "test = test.drop('SibSp', axis=1,)\n",
        "test = test.drop('Parch', axis=1,)"
      ],
      "metadata": {
        "id": "qFjPQ7wcgpQO"
      },
      "execution_count": 37,
      "outputs": []
    },
    {
      "cell_type": "code",
      "source": [
        "print(test.columns)\n"
      ],
      "metadata": {
        "colab": {
          "base_uri": "https://localhost:8080/"
        },
        "id": "GjrnpCsJmTna",
        "outputId": "b86b2b54-97a2-43f2-a89e-3d572c846c46"
      },
      "execution_count": 38,
      "outputs": [
        {
          "output_type": "stream",
          "name": "stdout",
          "text": [
            "Index(['PassengerId', 'Pclass', 'Name', 'Sex', 'Age', 'Ticket', 'Fare',\n",
            "       'Embarked', 'Title', 'Deck', 'Family'],\n",
            "      dtype='object')\n"
          ]
        }
      ]
    },
    {
      "cell_type": "code",
      "source": [
        "test.head()"
      ],
      "metadata": {
        "colab": {
          "base_uri": "https://localhost:8080/",
          "height": 206
        },
        "id": "sEm3wUNmmBpr",
        "outputId": "8fcb1077-744a-4992-ba3b-827c94b80e60"
      },
      "execution_count": 39,
      "outputs": [
        {
          "output_type": "execute_result",
          "data": {
            "text/plain": [
              "   PassengerId  Pclass                                          Name     Sex  \\\n",
              "0          892       3                              Kelly, Mr. James    male   \n",
              "1          893       3              Wilkes, Mrs. James (Ellen Needs)  female   \n",
              "2          894       2                     Myles, Mr. Thomas Francis    male   \n",
              "3          895       3                              Wirz, Mr. Albert    male   \n",
              "4          896       3  Hirvonen, Mrs. Alexander (Helga E Lindqvist)  female   \n",
              "\n",
              "    Age   Ticket     Fare Embarked Title     Deck  Family  \n",
              "0  34.5   330911   7.8292        Q    Mr  Unknown       1  \n",
              "1  47.0   363272   7.0000        S   Mrs  Unknown       2  \n",
              "2  62.0   240276   9.6875        Q    Mr  Unknown       1  \n",
              "3  27.0   315154   8.6625        S    Mr  Unknown       1  \n",
              "4  22.0  3101298  12.2875        S   Mrs  Unknown       3  "
            ],
            "text/html": [
              "\n",
              "  <div id=\"df-7742f723-90d5-453f-8ddb-50f786f0bda5\" class=\"colab-df-container\">\n",
              "    <div>\n",
              "<style scoped>\n",
              "    .dataframe tbody tr th:only-of-type {\n",
              "        vertical-align: middle;\n",
              "    }\n",
              "\n",
              "    .dataframe tbody tr th {\n",
              "        vertical-align: top;\n",
              "    }\n",
              "\n",
              "    .dataframe thead th {\n",
              "        text-align: right;\n",
              "    }\n",
              "</style>\n",
              "<table border=\"1\" class=\"dataframe\">\n",
              "  <thead>\n",
              "    <tr style=\"text-align: right;\">\n",
              "      <th></th>\n",
              "      <th>PassengerId</th>\n",
              "      <th>Pclass</th>\n",
              "      <th>Name</th>\n",
              "      <th>Sex</th>\n",
              "      <th>Age</th>\n",
              "      <th>Ticket</th>\n",
              "      <th>Fare</th>\n",
              "      <th>Embarked</th>\n",
              "      <th>Title</th>\n",
              "      <th>Deck</th>\n",
              "      <th>Family</th>\n",
              "    </tr>\n",
              "  </thead>\n",
              "  <tbody>\n",
              "    <tr>\n",
              "      <th>0</th>\n",
              "      <td>892</td>\n",
              "      <td>3</td>\n",
              "      <td>Kelly, Mr. James</td>\n",
              "      <td>male</td>\n",
              "      <td>34.5</td>\n",
              "      <td>330911</td>\n",
              "      <td>7.8292</td>\n",
              "      <td>Q</td>\n",
              "      <td>Mr</td>\n",
              "      <td>Unknown</td>\n",
              "      <td>1</td>\n",
              "    </tr>\n",
              "    <tr>\n",
              "      <th>1</th>\n",
              "      <td>893</td>\n",
              "      <td>3</td>\n",
              "      <td>Wilkes, Mrs. James (Ellen Needs)</td>\n",
              "      <td>female</td>\n",
              "      <td>47.0</td>\n",
              "      <td>363272</td>\n",
              "      <td>7.0000</td>\n",
              "      <td>S</td>\n",
              "      <td>Mrs</td>\n",
              "      <td>Unknown</td>\n",
              "      <td>2</td>\n",
              "    </tr>\n",
              "    <tr>\n",
              "      <th>2</th>\n",
              "      <td>894</td>\n",
              "      <td>2</td>\n",
              "      <td>Myles, Mr. Thomas Francis</td>\n",
              "      <td>male</td>\n",
              "      <td>62.0</td>\n",
              "      <td>240276</td>\n",
              "      <td>9.6875</td>\n",
              "      <td>Q</td>\n",
              "      <td>Mr</td>\n",
              "      <td>Unknown</td>\n",
              "      <td>1</td>\n",
              "    </tr>\n",
              "    <tr>\n",
              "      <th>3</th>\n",
              "      <td>895</td>\n",
              "      <td>3</td>\n",
              "      <td>Wirz, Mr. Albert</td>\n",
              "      <td>male</td>\n",
              "      <td>27.0</td>\n",
              "      <td>315154</td>\n",
              "      <td>8.6625</td>\n",
              "      <td>S</td>\n",
              "      <td>Mr</td>\n",
              "      <td>Unknown</td>\n",
              "      <td>1</td>\n",
              "    </tr>\n",
              "    <tr>\n",
              "      <th>4</th>\n",
              "      <td>896</td>\n",
              "      <td>3</td>\n",
              "      <td>Hirvonen, Mrs. Alexander (Helga E Lindqvist)</td>\n",
              "      <td>female</td>\n",
              "      <td>22.0</td>\n",
              "      <td>3101298</td>\n",
              "      <td>12.2875</td>\n",
              "      <td>S</td>\n",
              "      <td>Mrs</td>\n",
              "      <td>Unknown</td>\n",
              "      <td>3</td>\n",
              "    </tr>\n",
              "  </tbody>\n",
              "</table>\n",
              "</div>\n",
              "    <div class=\"colab-df-buttons\">\n",
              "\n",
              "  <div class=\"colab-df-container\">\n",
              "    <button class=\"colab-df-convert\" onclick=\"convertToInteractive('df-7742f723-90d5-453f-8ddb-50f786f0bda5')\"\n",
              "            title=\"Convert this dataframe to an interactive table.\"\n",
              "            style=\"display:none;\">\n",
              "\n",
              "  <svg xmlns=\"http://www.w3.org/2000/svg\" height=\"24px\" viewBox=\"0 -960 960 960\">\n",
              "    <path d=\"M120-120v-720h720v720H120Zm60-500h600v-160H180v160Zm220 220h160v-160H400v160Zm0 220h160v-160H400v160ZM180-400h160v-160H180v160Zm440 0h160v-160H620v160ZM180-180h160v-160H180v160Zm440 0h160v-160H620v160Z\"/>\n",
              "  </svg>\n",
              "    </button>\n",
              "\n",
              "  <style>\n",
              "    .colab-df-container {\n",
              "      display:flex;\n",
              "      gap: 12px;\n",
              "    }\n",
              "\n",
              "    .colab-df-convert {\n",
              "      background-color: #E8F0FE;\n",
              "      border: none;\n",
              "      border-radius: 50%;\n",
              "      cursor: pointer;\n",
              "      display: none;\n",
              "      fill: #1967D2;\n",
              "      height: 32px;\n",
              "      padding: 0 0 0 0;\n",
              "      width: 32px;\n",
              "    }\n",
              "\n",
              "    .colab-df-convert:hover {\n",
              "      background-color: #E2EBFA;\n",
              "      box-shadow: 0px 1px 2px rgba(60, 64, 67, 0.3), 0px 1px 3px 1px rgba(60, 64, 67, 0.15);\n",
              "      fill: #174EA6;\n",
              "    }\n",
              "\n",
              "    .colab-df-buttons div {\n",
              "      margin-bottom: 4px;\n",
              "    }\n",
              "\n",
              "    [theme=dark] .colab-df-convert {\n",
              "      background-color: #3B4455;\n",
              "      fill: #D2E3FC;\n",
              "    }\n",
              "\n",
              "    [theme=dark] .colab-df-convert:hover {\n",
              "      background-color: #434B5C;\n",
              "      box-shadow: 0px 1px 3px 1px rgba(0, 0, 0, 0.15);\n",
              "      filter: drop-shadow(0px 1px 2px rgba(0, 0, 0, 0.3));\n",
              "      fill: #FFFFFF;\n",
              "    }\n",
              "  </style>\n",
              "\n",
              "    <script>\n",
              "      const buttonEl =\n",
              "        document.querySelector('#df-7742f723-90d5-453f-8ddb-50f786f0bda5 button.colab-df-convert');\n",
              "      buttonEl.style.display =\n",
              "        google.colab.kernel.accessAllowed ? 'block' : 'none';\n",
              "\n",
              "      async function convertToInteractive(key) {\n",
              "        const element = document.querySelector('#df-7742f723-90d5-453f-8ddb-50f786f0bda5');\n",
              "        const dataTable =\n",
              "          await google.colab.kernel.invokeFunction('convertToInteractive',\n",
              "                                                    [key], {});\n",
              "        if (!dataTable) return;\n",
              "\n",
              "        const docLinkHtml = 'Like what you see? Visit the ' +\n",
              "          '<a target=\"_blank\" href=https://colab.research.google.com/notebooks/data_table.ipynb>data table notebook</a>'\n",
              "          + ' to learn more about interactive tables.';\n",
              "        element.innerHTML = '';\n",
              "        dataTable['output_type'] = 'display_data';\n",
              "        await google.colab.output.renderOutput(dataTable, element);\n",
              "        const docLink = document.createElement('div');\n",
              "        docLink.innerHTML = docLinkHtml;\n",
              "        element.appendChild(docLink);\n",
              "      }\n",
              "    </script>\n",
              "  </div>\n",
              "\n",
              "\n",
              "<div id=\"df-656aa1d5-76e5-4ae3-a5d0-dd3f82fe1fff\">\n",
              "  <button class=\"colab-df-quickchart\" onclick=\"quickchart('df-656aa1d5-76e5-4ae3-a5d0-dd3f82fe1fff')\"\n",
              "            title=\"Suggest charts.\"\n",
              "            style=\"display:none;\">\n",
              "\n",
              "<svg xmlns=\"http://www.w3.org/2000/svg\" height=\"24px\"viewBox=\"0 0 24 24\"\n",
              "     width=\"24px\">\n",
              "    <g>\n",
              "        <path d=\"M19 3H5c-1.1 0-2 .9-2 2v14c0 1.1.9 2 2 2h14c1.1 0 2-.9 2-2V5c0-1.1-.9-2-2-2zM9 17H7v-7h2v7zm4 0h-2V7h2v10zm4 0h-2v-4h2v4z\"/>\n",
              "    </g>\n",
              "</svg>\n",
              "  </button>\n",
              "\n",
              "<style>\n",
              "  .colab-df-quickchart {\n",
              "      --bg-color: #E8F0FE;\n",
              "      --fill-color: #1967D2;\n",
              "      --hover-bg-color: #E2EBFA;\n",
              "      --hover-fill-color: #174EA6;\n",
              "      --disabled-fill-color: #AAA;\n",
              "      --disabled-bg-color: #DDD;\n",
              "  }\n",
              "\n",
              "  [theme=dark] .colab-df-quickchart {\n",
              "      --bg-color: #3B4455;\n",
              "      --fill-color: #D2E3FC;\n",
              "      --hover-bg-color: #434B5C;\n",
              "      --hover-fill-color: #FFFFFF;\n",
              "      --disabled-bg-color: #3B4455;\n",
              "      --disabled-fill-color: #666;\n",
              "  }\n",
              "\n",
              "  .colab-df-quickchart {\n",
              "    background-color: var(--bg-color);\n",
              "    border: none;\n",
              "    border-radius: 50%;\n",
              "    cursor: pointer;\n",
              "    display: none;\n",
              "    fill: var(--fill-color);\n",
              "    height: 32px;\n",
              "    padding: 0;\n",
              "    width: 32px;\n",
              "  }\n",
              "\n",
              "  .colab-df-quickchart:hover {\n",
              "    background-color: var(--hover-bg-color);\n",
              "    box-shadow: 0 1px 2px rgba(60, 64, 67, 0.3), 0 1px 3px 1px rgba(60, 64, 67, 0.15);\n",
              "    fill: var(--button-hover-fill-color);\n",
              "  }\n",
              "\n",
              "  .colab-df-quickchart-complete:disabled,\n",
              "  .colab-df-quickchart-complete:disabled:hover {\n",
              "    background-color: var(--disabled-bg-color);\n",
              "    fill: var(--disabled-fill-color);\n",
              "    box-shadow: none;\n",
              "  }\n",
              "\n",
              "  .colab-df-spinner {\n",
              "    border: 2px solid var(--fill-color);\n",
              "    border-color: transparent;\n",
              "    border-bottom-color: var(--fill-color);\n",
              "    animation:\n",
              "      spin 1s steps(1) infinite;\n",
              "  }\n",
              "\n",
              "  @keyframes spin {\n",
              "    0% {\n",
              "      border-color: transparent;\n",
              "      border-bottom-color: var(--fill-color);\n",
              "      border-left-color: var(--fill-color);\n",
              "    }\n",
              "    20% {\n",
              "      border-color: transparent;\n",
              "      border-left-color: var(--fill-color);\n",
              "      border-top-color: var(--fill-color);\n",
              "    }\n",
              "    30% {\n",
              "      border-color: transparent;\n",
              "      border-left-color: var(--fill-color);\n",
              "      border-top-color: var(--fill-color);\n",
              "      border-right-color: var(--fill-color);\n",
              "    }\n",
              "    40% {\n",
              "      border-color: transparent;\n",
              "      border-right-color: var(--fill-color);\n",
              "      border-top-color: var(--fill-color);\n",
              "    }\n",
              "    60% {\n",
              "      border-color: transparent;\n",
              "      border-right-color: var(--fill-color);\n",
              "    }\n",
              "    80% {\n",
              "      border-color: transparent;\n",
              "      border-right-color: var(--fill-color);\n",
              "      border-bottom-color: var(--fill-color);\n",
              "    }\n",
              "    90% {\n",
              "      border-color: transparent;\n",
              "      border-bottom-color: var(--fill-color);\n",
              "    }\n",
              "  }\n",
              "</style>\n",
              "\n",
              "  <script>\n",
              "    async function quickchart(key) {\n",
              "      const quickchartButtonEl =\n",
              "        document.querySelector('#' + key + ' button');\n",
              "      quickchartButtonEl.disabled = true;  // To prevent multiple clicks.\n",
              "      quickchartButtonEl.classList.add('colab-df-spinner');\n",
              "      try {\n",
              "        const charts = await google.colab.kernel.invokeFunction(\n",
              "            'suggestCharts', [key], {});\n",
              "      } catch (error) {\n",
              "        console.error('Error during call to suggestCharts:', error);\n",
              "      }\n",
              "      quickchartButtonEl.classList.remove('colab-df-spinner');\n",
              "      quickchartButtonEl.classList.add('colab-df-quickchart-complete');\n",
              "    }\n",
              "    (() => {\n",
              "      let quickchartButtonEl =\n",
              "        document.querySelector('#df-656aa1d5-76e5-4ae3-a5d0-dd3f82fe1fff button');\n",
              "      quickchartButtonEl.style.display =\n",
              "        google.colab.kernel.accessAllowed ? 'block' : 'none';\n",
              "    })();\n",
              "  </script>\n",
              "</div>\n",
              "    </div>\n",
              "  </div>\n"
            ]
          },
          "metadata": {},
          "execution_count": 39
        }
      ]
    },
    {
      "cell_type": "code",
      "source": [
        "# Dividir el conjunto de entrenamiento en características (X) y etiquetas (y)\n",
        "X_train = nuevo_df[['Pclass', 'Age', 'Family', 'Fare']]\n",
        "y_train = nuevo_df['Survived']\n",
        "\n",
        "# Procesar el conjunto de prueba (test) para que coincida con las características de entrenamiento\n",
        "X_test = test[['Pclass', 'Age', 'Family', 'Fare']]\n",
        "\n",
        "# Inicializar el clasificador KNN\n",
        "knn = KNeighborsClassifier(n_neighbors=17)  # Puedes ajustar el valor de k según tus necesidades\n",
        "\n",
        "# Entrenar el modelo KNN en los datos de entrenamiento\n",
        "knn.fit(X_train, y_train)\n",
        "\n",
        "# Realizar predicciones en el conjunto de entrenamiento\n",
        "y_train_pred = knn.predict(X_train)\n",
        "\n",
        "# Calcular la precisión en el conjunto de entrenamiento\n",
        "accuracy_train = accuracy_score(y_train, y_train_pred)\n",
        "print(\"Precisión del modelo en el conjunto de entrenamiento:\", accuracy_train)\n",
        "\n",
        "# Asegurarse de que las longitudes coincidan\n",
        "print(\"Longitud de X_test:\", len(X_test))\n",
        "print(\"Longitud de y_pred:\", len(y_pred))\n",
        "\n"
      ],
      "metadata": {
        "colab": {
          "base_uri": "https://localhost:8080/"
        },
        "id": "Xxbcw8B5qR1Z",
        "outputId": "4a726b41-813a-4a84-fd30-c322fd01229c"
      },
      "execution_count": 51,
      "outputs": [
        {
          "output_type": "stream",
          "name": "stdout",
          "text": [
            "Precisión del modelo en el conjunto de entrenamiento: 0.7017543859649122\n",
            "Longitud de X_test: 418\n",
            "Longitud de y_pred: 418\n"
          ]
        }
      ]
    },
    {
      "cell_type": "code",
      "source": [
        "# Crear el DataFrame de submission\n",
        "submission = pd.DataFrame({'PassengerId': test['PassengerId'], 'Survived': y_pred})\n",
        "\n",
        "# Guardar el DataFrame de submission como un archivo CSV\n",
        "submission.to_csv('submission.csv', index=False)\n"
      ],
      "metadata": {
        "id": "Jl9-posagXt7"
      },
      "execution_count": 42,
      "outputs": []
    }
  ]
}