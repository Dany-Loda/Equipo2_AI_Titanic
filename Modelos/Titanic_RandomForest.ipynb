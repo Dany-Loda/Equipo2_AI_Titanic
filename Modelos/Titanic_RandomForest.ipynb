{
  "nbformat": 4,
  "nbformat_minor": 0,
  "metadata": {
    "colab": {
      "provenance": [],
      "collapsed_sections": [
        "iEfg4icCgOTw",
        "R1mpbkpMgRnt",
        "ss57TA1Ev2U6",
        "0x4PSZlyy1JY",
        "Ry0PDFJSgjKk",
        "Pk5DESm27jTp",
        "Mj2x7Hi5-v4E",
        "zkZb7EummVMJ"
      ]
    },
    "kernelspec": {
      "name": "python3",
      "display_name": "Python 3"
    },
    "language_info": {
      "name": "python"
    }
  },
  "cells": [
    {
      "cell_type": "markdown",
      "source": [
        " # Etapa 1: Limpieza de Datos\n",
        " Equipo 2\n",
        "\n",
        "---\n",
        "\n",
        "\n",
        "\n"
      ],
      "metadata": {
        "id": "vcyEkwtOtbJp"
      }
    },
    {
      "cell_type": "markdown",
      "source": [
        "## Importación de Librerías"
      ],
      "metadata": {
        "id": "SBiwO3hThVQt"
      }
    },
    {
      "cell_type": "code",
      "execution_count": 51,
      "metadata": {
        "id": "Ix0nxzBPc-0r"
      },
      "outputs": [],
      "source": [
        "import pandas as pd\n",
        "import numpy as np\n",
        "import matplotlib.pyplot as plt\n",
        "import seaborn as sns\n",
        "import scipy.stats as stats\n",
        "from statsmodels.imputation import mice\n",
        "from sklearn.ensemble import RandomForestRegressor\n",
        "from sklearn.decomposition import PCA\n",
        "from sklearn.preprocessing import LabelEncoder\n",
        "le = LabelEncoder()\n"
      ]
    },
    {
      "cell_type": "markdown",
      "source": [
        "## Carga de Datos Local\n",
        "En caso que sea necesario, se cargan los datos localmente desde su archivos CSV"
      ],
      "metadata": {
        "id": "R1mpbkpMgRnt"
      }
    },
    {
      "cell_type": "code",
      "source": [
        "# Carga de archivos\n",
        "train = pd.read_csv(\"train.csv\")\n",
        "test = pd.read_csv(\"test.csv\")"
      ],
      "metadata": {
        "id": "FIpI3Lg7gRLu"
      },
      "execution_count": 52,
      "outputs": []
    },
    {
      "cell_type": "markdown",
      "source": [
        "### Paso 1 : Limpieza de Columna \"Age\" y Feature Engineering con Titulo\n"
      ],
      "metadata": {
        "id": "w8tagVRq2ScR"
      }
    },
    {
      "cell_type": "markdown",
      "source": [
        " La columna 'Age' (Edad) es una característica importante para predecir la supervivencia en el Titanic. Las edades pueden influir en la probabilidad de supervivencia, ya que es posible que se haya dado prioridad a niños y ancianos durante el rescate. Además, la edad puede estar relacionada con otras características, como la clase del pasajero, que también pueden influir en la supervivencia.\n"
      ],
      "metadata": {
        "id": "L44ZsVZQ3jwr"
      }
    },
    {
      "cell_type": "code",
      "source": [
        "# Contando los valores nulos en la columna 'Age' para ambos conjuntos\n",
        "\n",
        "# Para el conjunto de entrenamiento (train)\n",
        "null_values_train = train['Age'].isnull().sum()\n",
        "print(f\"Valores nulos en la columna 'Age' del conjunto de entrenamiento: {null_values_train}\")\n",
        "\n",
        "# Para el conjunto de prueba (test)\n",
        "null_values_test = test['Age'].isnull().sum()\n",
        "print(f\"Valores nulos en la columna 'Age' del conjunto de prueba: {null_values_test}\")"
      ],
      "metadata": {
        "colab": {
          "base_uri": "https://localhost:8080/"
        },
        "id": "5dlMdqp43lE_",
        "outputId": "59c52e4d-707c-4af8-9ab7-fac4f0cb9344"
      },
      "execution_count": 53,
      "outputs": [
        {
          "output_type": "stream",
          "name": "stdout",
          "text": [
            "Valores nulos en la columna 'Age' del conjunto de entrenamiento: 177\n",
            "Valores nulos en la columna 'Age' del conjunto de prueba: 86\n"
          ]
        }
      ]
    },
    {
      "cell_type": "code",
      "source": [
        "# Por ello extraemos el título de la columna 'Name'\n",
        "train['Title'] = train['Name'].str.extract(' ([A-Za-z]+)\\.', expand=False)\n",
        "test['Title'] = test['Name'].str.extract(' ([A-Za-z]+)\\.', expand=False)"
      ],
      "metadata": {
        "id": "fJUW_fAz6szH"
      },
      "execution_count": 54,
      "outputs": []
    },
    {
      "cell_type": "markdown",
      "source": [
        "#### Imputación de Train con RF"
      ],
      "metadata": {
        "id": "Mj2x7Hi5-v4E"
      }
    },
    {
      "cell_type": "code",
      "source": [
        "import pandas as pd\n",
        "from sklearn.ensemble import RandomForestRegressor\n",
        "\n",
        "# Suponiendo que ya has cargado tus datos en las variables 'train' y 'test'\n",
        "# y que ya has extraído la columna 'Title' de 'Name'\n",
        "\n",
        "# Convertir las variables categóricas en dummies\n",
        "train_dummies = pd.get_dummies(train, columns=['Title', 'Sex', 'Pclass', 'Embarked'], drop_first=True)\n",
        "test_dummies = pd.get_dummies(test, columns=['Title', 'Sex', 'Pclass', 'Embarked'], drop_first=True)\n",
        "\n",
        "# Eliminar columnas que no se utilizarán para el entrenamiento\n",
        "train_dummies = train_dummies.drop(['Name', 'Ticket', 'Cabin'], axis=1)\n",
        "test_dummies = test_dummies.drop(['Name', 'Ticket', 'Cabin'], axis=1)\n",
        "\n",
        "# Alinear los conjuntos 'train_dummies' y 'test_dummies' para asegurarse de que tengan las mismas columnas\n",
        "train_dummies, test_dummies = train_dummies.align(test_dummies, join='outer', axis=1, fill_value=0)\n",
        "\n",
        "# Dividir el conjunto 'train' en registros con 'Age' y registros sin 'Age'\n",
        "train_with_age = train_dummies.dropna(subset=['Age'])\n",
        "train_without_age = train_dummies[train_dummies['Age'].isnull()].copy()\n",
        "\n",
        "# Definir características y objetivo para 'train'\n",
        "X_train = train_with_age.drop('Age', axis=1)\n",
        "y_train = train_with_age['Age']\n",
        "\n",
        "# Entrenar el Random Forest\n",
        "rf = RandomForestRegressor(n_estimators=100, random_state=42)\n",
        "rf.fit(X_train, y_train)\n",
        "\n",
        "# Predecir los valores faltantes de 'Age' en 'train'\n",
        "predicted_ages_train = rf.predict(train_without_age.drop('Age', axis=1))\n",
        "train_without_age.loc[:, 'Age'] = predicted_ages_train\n",
        "\n",
        "# Asignar las edades predichas al DataFrame 'train' original\n",
        "train.loc[train['Age'].isnull(), 'Age'] = predicted_ages_train\n",
        "\n",
        "# Dividir el conjunto 'test' en registros con 'Age' y registros sin 'Age'\n",
        "test_with_age = test_dummies.dropna(subset=['Age'])\n",
        "test_without_age = test_dummies[test_dummies['Age'].isnull()].copy()\n",
        "\n",
        "# Predecir los valores faltantes de 'Age' en 'test'\n",
        "predicted_ages_test = rf.predict(test_without_age.drop('Age', axis=1))\n",
        "test_without_age.loc[:, 'Age'] = predicted_ages_test\n",
        "\n",
        "# Asignar las edades predichas al DataFrame 'test' original\n",
        "test.loc[test['Age'].isnull(), 'Age'] = predicted_ages_test"
      ],
      "metadata": {
        "id": "iLx-Wnc980Bs"
      },
      "execution_count": 55,
      "outputs": []
    },
    {
      "cell_type": "markdown",
      "source": [
        "### Paso 2 : Limpieza de Columna \"Embarked\"\n"
      ],
      "metadata": {
        "id": "oFm779Vqg62B"
      }
    },
    {
      "cell_type": "code",
      "source": [
        "# Vemos que una de ellas domina, por lo que la rellenaremos con ella\n",
        "\n",
        "most_common_embarked = train['Embarked'].mode()[0]\n",
        "\n",
        "train['Embarked'].fillna(most_common_embarked, inplace=True)"
      ],
      "metadata": {
        "id": "tfswNw2OjJbV"
      },
      "execution_count": 56,
      "outputs": []
    },
    {
      "cell_type": "code",
      "source": [
        "test['Fare'].fillna(test['Fare'].median(), inplace=True)"
      ],
      "metadata": {
        "id": "ehDn6r1Ikv6k"
      },
      "execution_count": 57,
      "outputs": []
    },
    {
      "cell_type": "markdown",
      "source": [
        "### Paso 3: Imputación de Columna \"Cabin\""
      ],
      "metadata": {
        "id": "VrKJPmY1k3De"
      }
    },
    {
      "cell_type": "code",
      "source": [
        "# Codificar la columna 'Cabin'\n",
        "train['Cabin_encoded'] = le.fit_transform(train['Cabin'].astype(str))\n",
        "\n",
        "# Calcular la correlación con 'Survived'\n",
        "correlation = train['Survived'].corr(train['Cabin_encoded'])\n",
        "print(f\"Correlación entre 'Survived' y 'Cabin_encoded': {correlation:.2f}\")"
      ],
      "metadata": {
        "colab": {
          "base_uri": "https://localhost:8080/"
        },
        "id": "8Kv-yKqTr3Ei",
        "outputId": "6b4758d9-7ef0-4d60-fcb9-00c5d4fad61e"
      },
      "execution_count": 58,
      "outputs": [
        {
          "output_type": "stream",
          "name": "stdout",
          "text": [
            "Correlación entre 'Survived' y 'Cabin_encoded': -0.25\n"
          ]
        }
      ]
    },
    {
      "cell_type": "code",
      "source": [
        "# Extraer la primera letra de la columna 'Cabin' para obtener la cubierta\n",
        "train['Deck'] = train['Cabin'].str[0]\n",
        "test['Deck'] = test['Cabin'].str[0]\n",
        "\n",
        "# Agrupar por número de ticket y llenar las cabinas faltantes con el modo (valor más común) dentro de ese grupo\n",
        "train['Deck'] = train.groupby('Ticket')['Deck'].transform(lambda x: x.fillna(x.mode()[0] if not x.mode().empty else x))\n",
        "test['Deck'] = test.groupby('Ticket')['Deck'].transform(lambda x: x.fillna(x.mode()[0] if not x.mode().empty else x))\n",
        "\n",
        "# Para las cabinas que aún falten, imputarlas con 'Unknown'\n",
        "train['Deck'].fillna('Unknown', inplace=True)\n",
        "test['Deck'].fillna('Unknown', inplace=True)"
      ],
      "metadata": {
        "id": "4HO4OubXtzpw"
      },
      "execution_count": 59,
      "outputs": []
    },
    {
      "cell_type": "code",
      "source": [
        "train.drop('Cabin', axis=1, inplace=True)\n",
        "test.drop('Cabin', axis=1, inplace=True)"
      ],
      "metadata": {
        "id": "fc0E0scRvjkL"
      },
      "execution_count": 60,
      "outputs": []
    },
    {
      "cell_type": "markdown",
      "source": [
        "# Modelo de Random Forest"
      ],
      "metadata": {
        "id": "ppdlasoqqH0d"
      }
    },
    {
      "cell_type": "markdown",
      "source": [
        "### Modelo Base"
      ],
      "metadata": {
        "id": "_Lz-ElUxsusK"
      }
    },
    {
      "cell_type": "code",
      "source": [
        "import pandas as pd\n",
        "from sklearn.ensemble import RandomForestClassifier\n",
        "from sklearn.model_selection import train_test_split\n",
        "from sklearn.metrics import confusion_matrix\n",
        "import seaborn as sns\n",
        "import matplotlib.pyplot as plt\n",
        "from sklearn.metrics import accuracy_score, precision_score, recall_score, f1_score\n",
        "\n",
        "\n",
        "# Eliminar columnas que no se utilizarán en el modelo\n",
        "X_train = train.drop(['Survived', 'Name', 'Ticket', 'Title'], axis=1)\n",
        "y_train = train['Survived']\n",
        "X_test = test.drop(['Name', 'Ticket', 'Title'], axis=1)  # Asumiendo que 'test' no contiene la columna 'Survived'\n",
        "\n",
        "# Codificar variables categóricas como 'Sex' y 'Embarked'\n",
        "X_train = pd.get_dummies(X_train, columns=['Sex', 'Embarked', 'Deck'], drop_first=True)\n",
        "X_test = pd.get_dummies(X_test, columns=['Sex', 'Embarked', 'Deck'], drop_first=True)\n",
        "\n",
        "# Alinear los conjuntos 'X_train' y 'X_test' para asegurarse de que tengan las mismas columnas\n",
        "X_train, X_test = X_train.align(X_test, join='left', axis=1, fill_value=0)\n",
        "\n",
        "# Dividir el conjunto de entrenamiento en subconjuntos de entrenamiento y validación\n",
        "X_train_split, X_val_split, y_train_split, y_val_split = train_test_split(X_train, y_train, test_size=0.2, random_state=42)\n",
        "\n",
        "# Crear el modelo de Random Forest\n",
        "rf = RandomForestClassifier(n_estimators=200, max_depth=10, min_samples_leaf=2, min_samples_split=2, bootstrap=False, random_state=42)\n",
        "\n",
        "# Entrenar el modelo en el subconjunto de entrenamiento\n",
        "rf.fit(X_train_split, y_train_split)\n",
        "\n",
        "# Hacer predicciones en el subconjunto de validación\n",
        "y_val_pred = rf.predict(X_val_split)\n",
        "\n",
        "# Calcular métricas numéricas\n",
        "accuracy = accuracy_score(y_val_split, y_val_pred)\n",
        "precision = precision_score(y_val_split, y_val_pred)\n",
        "recall = recall_score(y_val_split, y_val_pred)\n",
        "f1 = f1_score(y_val_split, y_val_pred)\n",
        "\n",
        "# Imprimir las métricas\n",
        "print(f\"Accuracy: {accuracy}\")\n",
        "print(f\"Precision: {precision}\")\n",
        "print(f\"Recall: {recall}\")\n",
        "print(f\"F1 Score: {f1}\")\n",
        "\n",
        "\n",
        "# Crear la matriz de confusión\n",
        "conf_matrix = confusion_matrix(y_val_split, y_val_pred)\n",
        "\n",
        "# Visualizar la matriz de confusión\n",
        "sns.heatmap(conf_matrix, annot=True, fmt='g', cmap='Blues')\n",
        "plt.xlabel('Predicción')\n",
        "plt.ylabel('Verdadero')\n",
        "plt.show()\n",
        "\n",
        "# Hacer predicciones en el conjunto de prueba\n",
        "y_pred = rf.predict(X_test)\n",
        "\n",
        "# Crear el DataFrame de submission\n",
        "submission = pd.DataFrame({'PassengerId': test['PassengerId'], 'Survived': y_pred})\n",
        "\n",
        "# Guardar el DataFrame de submission como un archivo CSV\n",
        "submission.to_csv('submission.csv', index=False)\n"
      ],
      "metadata": {
        "id": "gUJKgBfJ96P_",
        "outputId": "5d317d9a-bddf-420c-bdb6-44c98e97cf9e",
        "colab": {
          "base_uri": "https://localhost:8080/",
          "height": 518
        }
      },
      "execution_count": 61,
      "outputs": [
        {
          "output_type": "stream",
          "name": "stdout",
          "text": [
            "Accuracy: 0.8268156424581006\n",
            "Precision: 0.8115942028985508\n",
            "Recall: 0.7567567567567568\n",
            "F1 Score: 0.7832167832167832\n"
          ]
        },
        {
          "output_type": "display_data",
          "data": {
            "text/plain": [
              "<Figure size 640x480 with 2 Axes>"
            ],
            "image/png": "[encoded data removed]"
          },
          "metadata": {}
        }
      ]
    },
    {
      "cell_type": "markdown",
      "source": [
        "### Búsqueda de Mejores Hiperparámetros"
      ],
      "metadata": {
        "id": "Ew6K20CJzfSh"
      }
    },
    {
      "cell_type": "code",
      "source": [
        "from sklearn.model_selection import GridSearchCV\n",
        "\n",
        "# Definir el modelo de bosque aleatorio\n",
        "rf = RandomForestClassifier(random_state=42)\n",
        "\n",
        "# Definir la grilla de hiperparámetros para buscar\n",
        "param_grid = {\n",
        "    'n_estimators': [50, 100, 200],\n",
        "    'max_features': ['auto', 'sqrt', 'log2'],\n",
        "    'max_depth': [10, 20, 30, None],\n",
        "    'min_samples_split': [2, 5, 10],\n",
        "    'min_samples_leaf': [1, 2, 4],\n",
        "    'bootstrap': [True, False]\n",
        "}\n",
        "\n",
        "# Crear el objeto GridSearchCV\n",
        "grid_search = GridSearchCV(estimator=rf, param_grid=param_grid,\n",
        "                           cv=5, n_jobs=-1, verbose=2, scoring='accuracy')\n",
        "\n",
        "# Ajustar GridSearchCV al conjunto de entrenamiento\n",
        "grid_search.fit(X_train, y_train)\n",
        "\n",
        "# Obtener los mejores hiperparámetros\n",
        "best_params = grid_search.best_params_\n",
        "print(f\"Mejores hiperparámetros: {best_params}\")\n",
        "\n",
        "# Obtener el mejor modelo\n",
        "best_rf = grid_search.best_estimator_"
      ],
      "metadata": {
        "id": "99fUgNGd_W20",
        "outputId": "10528d50-a5d5-438a-e340-3470b0a9ed0f",
        "colab": {
          "base_uri": "https://localhost:8080/"
        }
      },
      "execution_count": 62,
      "outputs": [
        {
          "output_type": "stream",
          "name": "stdout",
          "text": [
            "Fitting 5 folds for each of 648 candidates, totalling 3240 fits\n"
          ]
        },
        {
          "output_type": "stream",
          "name": "stderr",
          "text": [
            "/usr/local/lib/python3.10/dist-packages/sklearn/ensemble/_forest.py:424: FutureWarning: `max_features='auto'` has been deprecated in 1.1 and will be removed in 1.3. To keep the past behaviour, explicitly set `max_features='sqrt'` or remove this parameter as it is also the default value for RandomForestClassifiers and ExtraTreesClassifiers.\n",
            "  warn(\n"
          ]
        },
        {
          "output_type": "stream",
          "name": "stdout",
          "text": [
            "Mejores hiperparámetros: {'bootstrap': False, 'max_depth': 20, 'max_features': 'auto', 'min_samples_leaf': 4, 'min_samples_split': 2, 'n_estimators': 200}\n"
          ]
        }
      ]
    },
    {
      "cell_type": "markdown",
      "source": [
        "### Modelo con Ajuste de Hiperparámetros"
      ],
      "metadata": {
        "id": "3nwfFhqjz1hy"
      }
    },
    {
      "cell_type": "code",
      "source": [
        "from sklearn.metrics import accuracy_score, precision_score, recall_score, f1_score\n",
        "\n",
        "# Dividir el conjunto de entrenamiento en subconjuntos de entrenamiento y validación\n",
        "X_train_split, X_val_split, y_train_split, y_val_split = train_test_split(X_train, y_train, test_size=0.2, random_state=42)\n",
        "\n",
        "# Entrenar el modelo en el subconjunto de entrenamiento\n",
        "best_rf.fit(X_train_split, y_train_split)\n",
        "\n",
        "# Predecir los resultados para el subconjunto de validación\n",
        "y_val_pred = best_rf.predict(X_val_split)\n",
        "\n",
        "# Calcular métricas\n",
        "accuracy = accuracy_score(y_val_split, y_val_pred)\n",
        "precision = precision_score(y_val_split, y_val_pred)\n",
        "recall = recall_score(y_val_split, y_val_pred)\n",
        "f1 = f1_score(y_val_split, y_val_pred)\n",
        "\n",
        "print(f\"Accuracy: {accuracy:.4f}\")\n",
        "print(f\"Precision: {precision:.4f}\")\n",
        "print(f\"Recall: {recall:.4f}\")\n",
        "print(f\"F1 Score: {f1:.4f}\")\n"
      ],
      "metadata": {
        "id": "q_b9tEcDBIrO",
        "outputId": "78842c2a-868f-4378-f8da-204436eb2fa3",
        "colab": {
          "base_uri": "https://localhost:8080/"
        }
      },
      "execution_count": 65,
      "outputs": [
        {
          "output_type": "stream",
          "name": "stderr",
          "text": [
            "/usr/local/lib/python3.10/dist-packages/sklearn/ensemble/_forest.py:424: FutureWarning: `max_features='auto'` has been deprecated in 1.1 and will be removed in 1.3. To keep the past behaviour, explicitly set `max_features='sqrt'` or remove this parameter as it is also the default value for RandomForestClassifiers and ExtraTreesClassifiers.\n",
            "  warn(\n"
          ]
        },
        {
          "output_type": "stream",
          "name": "stdout",
          "text": [
            "Accuracy: 0.8156\n",
            "Precision: 0.7971\n",
            "Recall: 0.7432\n",
            "F1 Score: 0.7692\n"
          ]
        }
      ]
    }
  ]
}