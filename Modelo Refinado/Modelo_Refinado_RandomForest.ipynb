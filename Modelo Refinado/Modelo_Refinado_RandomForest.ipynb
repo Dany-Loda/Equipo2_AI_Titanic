{
  "nbformat": 4,
  "nbformat_minor": 0,
  "metadata": {
    "colab": {
      "provenance": [],
      "collapsed_sections": [
        "iEfg4icCgOTw",
        "R1mpbkpMgRnt",
        "ss57TA1Ev2U6",
        "0x4PSZlyy1JY",
        "Ry0PDFJSgjKk",
        "Pk5DESm27jTp",
        "Mj2x7Hi5-v4E",
        "zkZb7EummVMJ"
      ]
    },
    "kernelspec": {
      "name": "python3",
      "display_name": "Python 3"
    },
    "language_info": {
      "name": "python"
    }
  },
  "cells": [
    {
      "cell_type": "markdown",
      "source": [
        "# Modelo de Random Forest Refinado\n",
        " Equipo 2\n",
        "\n",
        "---\n",
        "\n",
        "\n",
        "\n"
      ],
      "metadata": {
        "id": "vcyEkwtOtbJp"
      }
    },
    {
      "cell_type": "markdown",
      "source": [
        "## Importación de Librerías"
      ],
      "metadata": {
        "id": "SBiwO3hThVQt"
      }
    },
    {
      "cell_type": "code",
      "execution_count": 22,
      "metadata": {
        "id": "Ix0nxzBPc-0r"
      },
      "outputs": [],
      "source": [
        "import pandas as pd\n",
        "import numpy as np\n",
        "import matplotlib.pyplot as plt\n",
        "import seaborn as sns\n",
        "import scipy.stats as stats\n",
        "from statsmodels.imputation import mice\n",
        "from sklearn.ensemble import RandomForestRegressor\n",
        "from sklearn.decomposition import PCA\n",
        "from sklearn.preprocessing import LabelEncoder\n",
        "le = LabelEncoder()"
      ]
    },
    {
      "cell_type": "code",
      "source": [
        "# Carga de archivos\n",
        "train = pd.read_csv(\"train_cleaned.csv\")\n",
        "test = pd.read_csv(\"test_cleaned.csv\")"
      ],
      "metadata": {
        "id": "FIpI3Lg7gRLu"
      },
      "execution_count": 23,
      "outputs": []
    },
    {
      "cell_type": "markdown",
      "source": [
        "# Modelo de Random Forest"
      ],
      "metadata": {
        "id": "ppdlasoqqH0d"
      }
    },
    {
      "cell_type": "markdown",
      "source": [
        "### Modelo Base"
      ],
      "metadata": {
        "id": "_Lz-ElUxsusK"
      }
    },
    {
      "cell_type": "code",
      "source": [
        "import pandas as pd\n",
        "from sklearn.ensemble import RandomForestClassifier\n",
        "from sklearn.model_selection import train_test_split\n",
        "from sklearn.metrics import accuracy_score, precision_score, recall_score, f1_score, confusion_matrix\n",
        "import seaborn as sns\n",
        "import matplotlib.pyplot as plt\n",
        "\n",
        "\n",
        "# Preprocesamiento de datos\n",
        "X_train = train.drop(['Survived', 'Name', 'Ticket', 'Title'], axis=1)\n",
        "y_train = train['Survived']\n",
        "X_test = test.drop(['Name', 'Ticket', 'Title'], axis=1)\n",
        "\n",
        "X_train = pd.get_dummies(X_train, columns=['Sex', 'Embarked', 'Deck'], drop_first=True)\n",
        "X_test = pd.get_dummies(X_test, columns=['Sex', 'Embarked', 'Deck'], drop_first=True)\n",
        "X_train, X_test = X_train.align(X_test, join='left', axis=1, fill_value=0)\n",
        "\n",
        "# División de datos en entrenamiento y validación\n",
        "X_train_split, X_val_split, y_train_split, y_val_split = train_test_split(X_train, y_train, test_size=0.2, random_state=42)\n",
        "\n",
        "# Crear y entrenar el modelo de Random Forest\n",
        "rf = RandomForestClassifier(n_estimators=200, max_depth=10, min_samples_leaf=2, min_samples_split=2, bootstrap=False, random_state=42)\n",
        "rf.fit(X_train_split, y_train_split)\n",
        "\n",
        "# Hacer predicciones en el conjunto de validación\n",
        "y_val_pred = rf.predict(X_val_split)\n",
        "\n",
        "# Calcular e imprimir métricas\n",
        "accuracy = accuracy_score(y_val_split, y_val_pred)\n",
        "precision = precision_score(y_val_split, y_val_pred)\n",
        "recall = recall_score(y_val_split, y_val_pred)\n",
        "f1 = f1_score(y_val_split, y_val_pred)\n",
        "\n",
        "print(f\"Accuracy: {accuracy}\")\n",
        "print(f\"Precision: {precision}\")\n",
        "print(f\"Recall: {recall}\")\n",
        "print(f\"F1 Score: {f1}\")\n",
        "\n",
        "# Matriz de confusión\n",
        "conf_matrix = confusion_matrix(y_val_split, y_val_pred)\n",
        "sns.heatmap(conf_matrix, annot=True, fmt='g', cmap='Blues')\n",
        "plt.xlabel('Predicción')\n",
        "plt.ylabel('Verdadero')\n",
        "plt.show()\n",
        "\n",
        "# Hacer predicciones en el conjunto de prueba\n",
        "y_pred = rf.predict(X_test)\n",
        "\n",
        "# Crear y guardar el archivo de submission\n",
        "submission = pd.DataFrame({'PassengerId': test['PassengerId'], 'Survived': y_pred})\n",
        "submission.to_csv('submission.csv', index=False)\n"
      ],
      "metadata": {
        "id": "gUJKgBfJ96P_",
        "outputId": "f6bb6724-d123-45f9-8654-8f98edd8563c",
        "colab": {
          "base_uri": "https://localhost:8080/",
          "height": 518
        }
      },
      "execution_count": 25,
      "outputs": [
        {
          "output_type": "stream",
          "name": "stdout",
          "text": [
            "Accuracy: 0.8268156424581006\n",
            "Precision: 0.8115942028985508\n",
            "Recall: 0.7567567567567568\n",
            "F1 Score: 0.7832167832167832\n"
          ]
        },
        {
          "output_type": "display_data",
          "data": {
            "text/plain": [
              "<Figure size 640x480 with 2 Axes>"
            ],
            "image/png": "[encoded data removed]"
          },
          "metadata": {}
        }
      ]
    },
    {
      "cell_type": "markdown",
      "source": [
        "Los resultados obtenidos del modelo de Random Forest son bastante prometedores. Con una precisión del 81.16%, esto indica que el modelo es bueno para identificar correctamente a los pasajeros que sobrevivieron y los que no. El recall del 75.68% sugiere que el modelo es capaz de identificar correctamente el 75.68% de todos los pasajeros que realmente sobrevivieron. Finalmente, el F1 score, que es una medida que combina precisión y recall, es 78.32%, lo que indica que el modelo tiene un buen equilibrio entre precisión y recall. Aunque estos resultados son bastante buenos, siempre hay espacio para mejora. Podría ser útil explorar otros modelos o ajustar los parámetros del modelo actual para ver si podemos aumentar aún más estas métricas."
      ],
      "metadata": {
        "id": "eBCQX-cPNzbr"
      }
    },
    {
      "cell_type": "markdown",
      "source": [
        "## Búsqueda de Mejores Hiperparámetros - Grid Search"
      ],
      "metadata": {
        "id": "Ew6K20CJzfSh"
      }
    },
    {
      "cell_type": "code",
      "source": [
        "from sklearn.model_selection import GridSearchCV\n",
        "\n",
        "# Definir el modelo de bosque aleatorio\n",
        "rf = RandomForestClassifier(random_state=42)\n",
        "\n",
        "# Definir la grilla de hiperparámetros para buscar\n",
        "param_grid = {\n",
        "    'n_estimators': [50, 100, 200],\n",
        "    'max_features': ['auto', 'sqrt', 'log2'],\n",
        "    'max_depth': [10, 20, 30, None],\n",
        "    'min_samples_split': [2, 5, 10],\n",
        "    'min_samples_leaf': [1, 2, 4],\n",
        "    'bootstrap': [True, False]\n",
        "}\n",
        "\n",
        "# Crear el objeto GridSearchCV\n",
        "grid_search = GridSearchCV(estimator=rf, param_grid=param_grid,\n",
        "                           cv=3, n_jobs=-1, verbose=2, scoring='accuracy')\n",
        "\n",
        "# Ajustar GridSearchCV al conjunto de entrenamiento\n",
        "grid_search.fit(X_train_split, y_train_split)\n",
        "\n",
        "# Obtener los mejores hiperparámetros\n",
        "best_params = grid_search.best_params_\n",
        "print(f\"Mejores hiperparámetros: {best_params}\")\n",
        "\n",
        "# Obtener el mejor modelo\n",
        "best_rf = grid_search.best_estimator_\n",
        "\n",
        "# Hacer predicciones en el conjunto de validación\n",
        "y_val_pred = best_rf.predict(X_val_split)\n",
        "\n",
        "# Calcular métricas numéricas\n",
        "accuracy = accuracy_score(y_val_split, y_val_pred)\n",
        "precision = precision_score(y_val_split, y_val_pred)\n",
        "recall = recall_score(y_val_split, y_val_pred)\n",
        "f1 = f1_score(y_val_split, y_val_pred)\n",
        "\n",
        "# Imprimir las métricas\n",
        "print(f\"Accuracy: {accuracy}\")\n",
        "print(f\"Precision: {precision}\")\n",
        "print(f\"Recall: {recall}\")\n",
        "print(f\"F1 Score: {f1}\")"
      ],
      "metadata": {
        "id": "99fUgNGd_W20",
        "outputId": "1d735da6-0079-41af-b71e-ada78d464370",
        "colab": {
          "base_uri": "https://localhost:8080/"
        }
      },
      "execution_count": 26,
      "outputs": [
        {
          "output_type": "stream",
          "name": "stdout",
          "text": [
            "Fitting 3 folds for each of 648 candidates, totalling 1944 fits\n"
          ]
        },
        {
          "output_type": "stream",
          "name": "stderr",
          "text": [
            "/usr/local/lib/python3.10/dist-packages/sklearn/ensemble/_forest.py:424: FutureWarning: `max_features='auto'` has been deprecated in 1.1 and will be removed in 1.3. To keep the past behaviour, explicitly set `max_features='sqrt'` or remove this parameter as it is also the default value for RandomForestClassifiers and ExtraTreesClassifiers.\n",
            "  warn(\n"
          ]
        },
        {
          "output_type": "stream",
          "name": "stdout",
          "text": [
            "Mejores hiperparámetros: {'bootstrap': True, 'max_depth': 20, 'max_features': 'auto', 'min_samples_leaf': 2, 'min_samples_split': 10, 'n_estimators': 100}\n",
            "Accuracy: 0.8212290502793296\n",
            "Precision: 0.8\n",
            "Recall: 0.7567567567567568\n",
            "F1 Score: 0.7777777777777778\n"
          ]
        }
      ]
    },
    {
      "cell_type": "markdown",
      "source": [
        "El proceso de búsqueda en la grilla (GridSearchCV) ha concluido que los mejores hiperparámetros para tu modelo Random Forest son un max_depth de 20, un max_features de 'auto' (aunque es importante tener en cuenta la advertencia sobre la deprecación de este valor), un min_samples_leaf de 2, un min_samples_split de 10 y un n_estimators de 100, todos con bootstrap habilitado.\n",
        "\n",
        "Estos parámetros resultaron en un modelo con un Accuracy de 0.821, un Precision de 0.8, un Recall de 0.757 y un F1 Score de 0.778 en el conjunto de validación. Esto significa que el modelo clasifica correctamente el 82.1% de los ejemplos en el conjunto de validación, y entre las predicciones positivas que hace el modelo, el 80% son correctas. Además, el modelo identifica correctamente el 75.7% de todos los casos positivos reales en el conjunto de validación. El F1 Score es una métrica que combina Precision y Recall en un solo número, siendo 1 el mejor valor posible y 0 el peor, por lo que un F1 Score de 0.778 indica un buen equilibrio entre Precision y Recall.\n",
        "\n",
        "\n",
        "\n",
        "\n",
        "\n"
      ],
      "metadata": {
        "id": "TvLh_gnqQILw"
      }
    },
    {
      "cell_type": "markdown",
      "source": [
        "## Mejora del Modelo"
      ],
      "metadata": {
        "id": "hW4z_tWhQx6G"
      }
    },
    {
      "cell_type": "code",
      "source": [
        "import pandas as pd\n",
        "from sklearn.ensemble import RandomForestClassifier\n",
        "from sklearn.model_selection import train_test_split\n",
        "from sklearn.metrics import accuracy_score, precision_score, recall_score, f1_score\n",
        "\n",
        "# Leer los conjuntos de datos\n",
        "train = pd.read_csv('train_cleaned.csv')\n",
        "test = pd.read_csv('test_cleaned.csv')\n",
        "\n",
        "# Añadir Título\n",
        "train['Title'] = train['Name'].apply(lambda x: x.split(',')[1].split('.')[0].strip())\n",
        "test['Title'] = test['Name'].apply(lambda x: x.split(',')[1].split('.')[0].strip())\n",
        "\n",
        "# Añadir Tamaño de la Familia\n",
        "train['FamilySize'] = train['SibSp'] + train['Parch'] + 1\n",
        "test['FamilySize'] = test['SibSp'] + test['Parch'] + 1\n",
        "\n",
        "# Añadir Es Niño\n",
        "train['IsChild'] = train['Age'] < 18\n",
        "test['IsChild'] = test['Age'] < 18\n",
        "\n",
        "# Añadir Tarifa por Persona\n",
        "train['FarePerPerson'] = train['Fare'] / train['FamilySize']\n",
        "test['FarePerPerson'] = test['Fare'] / test['FamilySize']\n",
        "\n",
        "# Eliminar columnas que no se utilizarán en el modelo\n",
        "X_train = train.drop(['Survived', 'Name', 'Ticket', 'Embarked'], axis=1)\n",
        "y_train = train['Survived']\n",
        "X_test = test.drop(['Name', 'Ticket', 'Embarked'], axis=1)\n",
        "\n",
        "# Codificar variables categóricas\n",
        "X_train = pd.get_dummies(X_train, columns=['Sex', 'Title', 'Deck'], drop_first=True)\n",
        "X_test = pd.get_dummies(X_test, columns=['Sex', 'Title', 'Deck'], drop_first=True)\n",
        "\n",
        "# Alinear los conjuntos 'X_train' y 'X_test'\n",
        "X_train, X_test = X_train.align(X_test, join='left', axis=1, fill_value=0)\n",
        "\n",
        "# Dividir el conjunto de entrenamiento en subconjuntos de entrenamiento y validación\n",
        "X_train_split, X_val_split, y_train_split, y_val_split = train_test_split(X_train, y_train, test_size=0.2, random_state=42)\n",
        "\n",
        "# Crear el modelo de Random Forest\n",
        "rf = RandomForestClassifier(n_estimators=200, max_depth=10, min_samples_leaf=2, min_samples_split=2, bootstrap=False, random_state=42)\n",
        "\n",
        "# Entrenar el modelo en el subconjunto de entrenamiento\n",
        "rf.fit(X_train_split, y_train_split)\n",
        "\n",
        "# Hacer predicciones en el subconjunto de validación\n",
        "y_val_pred = rf.predict(X_val_split)\n",
        "\n",
        "# Calcular métricas numéricas\n",
        "accuracy = accuracy_score(y_val_split, y_val_pred)\n",
        "precision = precision_score(y_val_split, y_val_pred)\n",
        "recall = recall_score(y_val_split, y_val_pred)\n",
        "f1 = f1_score(y_val_split, y_val_pred)\n",
        "\n",
        "# Imprimir las métricas\n",
        "print(f\"Accuracy: {accuracy}\")\n",
        "print(f\"Precision: {precision}\")\n",
        "print(f\"Recall: {recall}\")\n",
        "print(f\"F1 Score: {f1}\")\n",
        "\n",
        "# Hacer predicciones en el conjunto de prueba\n",
        "y_pred = rf.predict(X_test)\n",
        "\n",
        "# Crear el DataFrame de submission\n",
        "submission = pd.DataFrame({'PassengerId': test['PassengerId'], 'Survived': y_pred})\n",
        "\n",
        "# Guardar el DataFrame de submission como un archivo CSV\n",
        "submission.to_csv('submission.csv', index=False)"
      ],
      "metadata": {
        "colab": {
          "base_uri": "https://localhost:8080/"
        },
        "id": "xkW_xty9Q3ZF",
        "outputId": "4b5d27ef-a768-4b60-c5b8-179fb947e0d9"
      },
      "execution_count": 39,
      "outputs": [
        {
          "output_type": "stream",
          "name": "stdout",
          "text": [
            "Accuracy: 0.8547486033519553\n",
            "Precision: 0.8529411764705882\n",
            "Recall: 0.7837837837837838\n",
            "F1 Score: 0.8169014084507041\n"
          ]
        }
      ]
    },
    {
      "cell_type": "markdown",
      "source": [
        "Aquí hay un desglose de lo que hicimos para obtener esta mejoría:\n",
        "\n",
        "1. **Preprocesamiento de Datos**: Preparamos los datos para el modelo de machine learning. Esto incluyó la creación de nuevas características (como 'Title', 'FamilySize', 'IsChild', y 'FarePerPerson') y la eliminación de características irrelevantes o poco informativas (como 'Name', 'Ticket', y 'Embarked'). También codificamos las variables categóricas como 'Sex', 'Title', y 'Deck' en variables numéricas que pueden ser utilizadas por el modelo.\n",
        "\n",
        "2. **División de Datos**: Dividimos el conjunto de datos de entrenamiento en dos partes: un subconjunto de entrenamiento (para entrenar el modelo) y un subconjunto de validación (para evaluar el modelo).\n",
        "\n",
        "3. **Construcción del Modelo**: Construimos un modelo de Random Forest, que es un tipo de modelo de ensamble. Específicamente, utilizamos 200 árboles de decisión (n_estimators=200), cada uno con una profundidad máxima de 10 (max_depth=10). También especificamos que el número mínimo de muestras requeridas para dividir un nodo interno es 2 (min_samples_split=2) y el número mínimo de muestras requeridas para estar en un nodo hoja es 2 (min_samples_leaf=2).\n",
        "\n",
        "4. **Entrenamiento del Modelo**: Entrenamos el modelo en el subconjunto de entrenamiento.\n",
        "\n",
        "5. **Evaluación del Modelo**: Evaluamos el modelo en el subconjunto de validación utilizando varias métricas numéricas. La 'accuracy' (exactitud) es la proporción de predicciones correctas entre todas las predicciones. La 'precision' (precisión) es la proporción de Verdaderos Positivos entre todos los ejemplos que el modelo predijo como Positivos. El 'recall' (exhaustividad) es la proporción de Verdaderos Positivos entre todos los ejemplos que son realmente Positivos. Y la 'F1 score' es una métrica que combina 'precision' y 'recall' en un solo número.\n",
        "\n",
        "6. **Predicciones en el Conjunto de Prueba**: Finalmente, hicimos predicciones en el conjunto de prueba y guardamos estas predicciones en un archivo CSV para su presentación.\n",
        "\n",
        "El modelo tiene una 'accuracy' de aproximadamente 85.5%, lo cual es bastante bueno. La 'precision' y 'recall' también son bastante altas, lo que indica que el modelo es bueno para identificar tanto los Verdaderos Positivos como los Verdaderos Negativos.\n"
      ],
      "metadata": {
        "id": "Kgot0WdeUKS7"
      }
    },
    {
      "cell_type": "markdown",
      "source": [
        "## Análisis de Bias y Varianza del Modelo"
      ],
      "metadata": {
        "id": "36G_78wQUvvR"
      }
    },
    {
      "cell_type": "code",
      "source": [
        "# Definir hiperparámetros\n",
        "min_samples_split = 2\n",
        "min_samples_leaf = 1\n",
        "max_features = 'auto'\n",
        "bootstrap = True\n",
        "\n",
        "# ------------------------------\n",
        "# DIAGNÓSTICO DE BIAS Y VARIANZA PARA EL MODELO AJUSTADO\n",
        "# ------------------------------\n",
        "\n",
        "max_depths = range(1, 21)\n",
        "val_errors_adjusted = []\n",
        "\n",
        "for max_depth in max_depths:\n",
        "    forest = RandomForestClassifier(\n",
        "        n_estimators=15,\n",
        "        max_depth=max_depth,\n",
        "        min_samples_split=min_samples_split,\n",
        "        min_samples_leaf=min_samples_leaf,\n",
        "        max_features=max_features,\n",
        "        bootstrap=bootstrap,\n",
        "        random_state=42\n",
        "    )\n",
        "    forest.fit(X_train_split, y_train_split)\n",
        "    val_errors_adjusted.append(1 - accuracy_score(y_val_split, forest.predict(X_val_split)))\n",
        "\n",
        "plt.figure(figsize=(10, 6))\n",
        "plt.plot(max_depths, val_errors_adjusted, label=\"Error de validación ajustado\", color=\"green\", marker='x')\n",
        "plt.xlabel('Max Depth')\n",
        "plt.ylabel('Error')\n",
        "plt.title('Bias-Variance Trade-off para el Modelo Ajustado')\n",
        "plt.legend()\n",
        "plt.grid(True)\n",
        "plt.show()\n"
      ],
      "metadata": {
        "colab": {
          "base_uri": "https://localhost:8080/",
          "height": 1000
        },
        "id": "BZe8YKnqU4oL",
        "outputId": "11c86802-1de4-46ce-ec97-656cc75ed1ee"
      },
      "execution_count": 43,
      "outputs": [
        {
          "output_type": "stream",
          "name": "stderr",
          "text": [
            "/usr/local/lib/python3.10/dist-packages/sklearn/ensemble/_forest.py:424: FutureWarning: `max_features='auto'` has been deprecated in 1.1 and will be removed in 1.3. To keep the past behaviour, explicitly set `max_features='sqrt'` or remove this parameter as it is also the default value for RandomForestClassifiers and ExtraTreesClassifiers.\n",
            "  warn(\n",
            "/usr/local/lib/python3.10/dist-packages/sklearn/ensemble/_forest.py:424: FutureWarning: `max_features='auto'` has been deprecated in 1.1 and will be removed in 1.3. To keep the past behaviour, explicitly set `max_features='sqrt'` or remove this parameter as it is also the default value for RandomForestClassifiers and ExtraTreesClassifiers.\n",
            "  warn(\n",
            "/usr/local/lib/python3.10/dist-packages/sklearn/ensemble/_forest.py:424: FutureWarning: `max_features='auto'` has been deprecated in 1.1 and will be removed in 1.3. To keep the past behaviour, explicitly set `max_features='sqrt'` or remove this parameter as it is also the default value for RandomForestClassifiers and ExtraTreesClassifiers.\n",
            "  warn(\n",
            "/usr/local/lib/python3.10/dist-packages/sklearn/ensemble/_forest.py:424: FutureWarning: `max_features='auto'` has been deprecated in 1.1 and will be removed in 1.3. To keep the past behaviour, explicitly set `max_features='sqrt'` or remove this parameter as it is also the default value for RandomForestClassifiers and ExtraTreesClassifiers.\n",
            "  warn(\n",
            "/usr/local/lib/python3.10/dist-packages/sklearn/ensemble/_forest.py:424: FutureWarning: `max_features='auto'` has been deprecated in 1.1 and will be removed in 1.3. To keep the past behaviour, explicitly set `max_features='sqrt'` or remove this parameter as it is also the default value for RandomForestClassifiers and ExtraTreesClassifiers.\n",
            "  warn(\n",
            "/usr/local/lib/python3.10/dist-packages/sklearn/ensemble/_forest.py:424: FutureWarning: `max_features='auto'` has been deprecated in 1.1 and will be removed in 1.3. To keep the past behaviour, explicitly set `max_features='sqrt'` or remove this parameter as it is also the default value for RandomForestClassifiers and ExtraTreesClassifiers.\n",
            "  warn(\n",
            "/usr/local/lib/python3.10/dist-packages/sklearn/ensemble/_forest.py:424: FutureWarning: `max_features='auto'` has been deprecated in 1.1 and will be removed in 1.3. To keep the past behaviour, explicitly set `max_features='sqrt'` or remove this parameter as it is also the default value for RandomForestClassifiers and ExtraTreesClassifiers.\n",
            "  warn(\n",
            "/usr/local/lib/python3.10/dist-packages/sklearn/ensemble/_forest.py:424: FutureWarning: `max_features='auto'` has been deprecated in 1.1 and will be removed in 1.3. To keep the past behaviour, explicitly set `max_features='sqrt'` or remove this parameter as it is also the default value for RandomForestClassifiers and ExtraTreesClassifiers.\n",
            "  warn(\n",
            "/usr/local/lib/python3.10/dist-packages/sklearn/ensemble/_forest.py:424: FutureWarning: `max_features='auto'` has been deprecated in 1.1 and will be removed in 1.3. To keep the past behaviour, explicitly set `max_features='sqrt'` or remove this parameter as it is also the default value for RandomForestClassifiers and ExtraTreesClassifiers.\n",
            "  warn(\n",
            "/usr/local/lib/python3.10/dist-packages/sklearn/ensemble/_forest.py:424: FutureWarning: `max_features='auto'` has been deprecated in 1.1 and will be removed in 1.3. To keep the past behaviour, explicitly set `max_features='sqrt'` or remove this parameter as it is also the default value for RandomForestClassifiers and ExtraTreesClassifiers.\n",
            "  warn(\n",
            "/usr/local/lib/python3.10/dist-packages/sklearn/ensemble/_forest.py:424: FutureWarning: `max_features='auto'` has been deprecated in 1.1 and will be removed in 1.3. To keep the past behaviour, explicitly set `max_features='sqrt'` or remove this parameter as it is also the default value for RandomForestClassifiers and ExtraTreesClassifiers.\n",
            "  warn(\n",
            "/usr/local/lib/python3.10/dist-packages/sklearn/ensemble/_forest.py:424: FutureWarning: `max_features='auto'` has been deprecated in 1.1 and will be removed in 1.3. To keep the past behaviour, explicitly set `max_features='sqrt'` or remove this parameter as it is also the default value for RandomForestClassifiers and ExtraTreesClassifiers.\n",
            "  warn(\n",
            "/usr/local/lib/python3.10/dist-packages/sklearn/ensemble/_forest.py:424: FutureWarning: `max_features='auto'` has been deprecated in 1.1 and will be removed in 1.3. To keep the past behaviour, explicitly set `max_features='sqrt'` or remove this parameter as it is also the default value for RandomForestClassifiers and ExtraTreesClassifiers.\n",
            "  warn(\n",
            "/usr/local/lib/python3.10/dist-packages/sklearn/ensemble/_forest.py:424: FutureWarning: `max_features='auto'` has been deprecated in 1.1 and will be removed in 1.3. To keep the past behaviour, explicitly set `max_features='sqrt'` or remove this parameter as it is also the default value for RandomForestClassifiers and ExtraTreesClassifiers.\n",
            "  warn(\n",
            "/usr/local/lib/python3.10/dist-packages/sklearn/ensemble/_forest.py:424: FutureWarning: `max_features='auto'` has been deprecated in 1.1 and will be removed in 1.3. To keep the past behaviour, explicitly set `max_features='sqrt'` or remove this parameter as it is also the default value for RandomForestClassifiers and ExtraTreesClassifiers.\n",
            "  warn(\n",
            "/usr/local/lib/python3.10/dist-packages/sklearn/ensemble/_forest.py:424: FutureWarning: `max_features='auto'` has been deprecated in 1.1 and will be removed in 1.3. To keep the past behaviour, explicitly set `max_features='sqrt'` or remove this parameter as it is also the default value for RandomForestClassifiers and ExtraTreesClassifiers.\n",
            "  warn(\n",
            "/usr/local/lib/python3.10/dist-packages/sklearn/ensemble/_forest.py:424: FutureWarning: `max_features='auto'` has been deprecated in 1.1 and will be removed in 1.3. To keep the past behaviour, explicitly set `max_features='sqrt'` or remove this parameter as it is also the default value for RandomForestClassifiers and ExtraTreesClassifiers.\n",
            "  warn(\n",
            "/usr/local/lib/python3.10/dist-packages/sklearn/ensemble/_forest.py:424: FutureWarning: `max_features='auto'` has been deprecated in 1.1 and will be removed in 1.3. To keep the past behaviour, explicitly set `max_features='sqrt'` or remove this parameter as it is also the default value for RandomForestClassifiers and ExtraTreesClassifiers.\n",
            "  warn(\n",
            "/usr/local/lib/python3.10/dist-packages/sklearn/ensemble/_forest.py:424: FutureWarning: `max_features='auto'` has been deprecated in 1.1 and will be removed in 1.3. To keep the past behaviour, explicitly set `max_features='sqrt'` or remove this parameter as it is also the default value for RandomForestClassifiers and ExtraTreesClassifiers.\n",
            "  warn(\n",
            "/usr/local/lib/python3.10/dist-packages/sklearn/ensemble/_forest.py:424: FutureWarning: `max_features='auto'` has been deprecated in 1.1 and will be removed in 1.3. To keep the past behaviour, explicitly set `max_features='sqrt'` or remove this parameter as it is also the default value for RandomForestClassifiers and ExtraTreesClassifiers.\n",
            "  warn(\n"
          ]
        },
        {
          "output_type": "display_data",
          "data": {
            "text/plain": [
              "<Figure size 1000x600 with 1 Axes>"
            ],
            "image/png": "[encoded data removed]"
          },
          "metadata": {}
        }
      ]
    },
    {
      "cell_type": "markdown",
      "source": [
        "Observamos que el error se estanca luego de una profundidad de 5, a partir de ello nuestro modelo está sobreajustando por lo que queremos dejarlo por debajo de este valor y mayor a 2.5."
      ],
      "metadata": {
        "id": "0NDhY5tEVqcT"
      }
    }
  ]
}